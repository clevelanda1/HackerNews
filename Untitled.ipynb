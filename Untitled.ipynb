{
 "cells": [
  {
   "cell_type": "code",
   "execution_count": null,
   "metadata": {},
   "outputs": [],
   "source": [
    "import tkinter as tk\n",
    "from tkinter import *\n",
    "\n",
    "\n",
    "\n",
    "def admin_view():\n",
    "    admin_screen = tk.Tk()\n",
    "    admin_screen.title(\"Admin View\")\n",
    "    admin_screen.geometry(\"750x600\")\n",
    "    Label(admin_screen,text = \"Admin\",bg = \"red\", height =\"2\", width=\"750\").pack()\n",
    "    canvas_adminview = tk.Canvas(admin_screen,bg=\"grey\",width =\"650\",height=\"500\")\n",
    "    canvas_adminview.pack()\n",
    "\n",
    "    adminLog = tk.Button(admin_screen, text = \"Change Grades\", padx = 10, pady = 5\n",
    "                                        ,fg=\"black\")\n",
    "    adminLog.pack()\n",
    "\n",
    "    admin_screen.mainloop()\n",
    "def user_view():\n",
    "    user_screen = tk.Tk()\n",
    "    user_screen.title(\"Admin View\")\n",
    "    user_screen.geometry(\"750x600\")\n",
    "    Label(user_screen,text = \"User\",bg = \"blue\", height =\"2\", width=\"750\").pack()\n",
    "    canvas_userview = tk.Canvas(user_screen,bg=\"grey\",width =\"650\",height=\"500\")\n",
    "    canvas_userview.pack()\n",
    "\n",
    "    userLog = tk.Button(user_screen, text = \"Change Grades\", padx = 10, pady = 5\n",
    "                                        ,fg=\"black\")\n",
    "    userLog.pack()\n",
    "\n",
    "    user_screen.mainloop()\n",
    "def main_screen():\n",
    "    screen = tk.Tk()\n",
    "    screen.title(\"Learning Managment System\")\n",
    "    screen.geometry(\"300x250\")\n",
    "    Label(text = \"Login\",bg = \"grey\", height =\"2\", width=\"250\").pack()\n",
    "    \n",
    "    adminLog = tk.Button(screen, text = \"Admin Login\", padx = 10, pady = 5\n",
    "                                        ,fg=\"black\", command =admin_view)\n",
    "    adminLog.pack()\n",
    "\n",
    "    userLog = tk.Button(screen, text = \"User Login\", padx = 10, pady = 5\n",
    "                                        ,fg=\"black\", command= user_view)\n",
    "    userLog.pack()\n",
    "\n",
    "    screen.mainloop()\n",
    "\n",
    "main_screen()\n"
   ]
  }
 ],
 "metadata": {
  "kernelspec": {
   "display_name": "Python 3",
   "language": "python",
   "name": "python3"
  },
  "language_info": {
   "codemirror_mode": {
    "name": "ipython",
    "version": 3
   },
   "file_extension": ".py",
   "mimetype": "text/x-python",
   "name": "python",
   "nbconvert_exporter": "python",
   "pygments_lexer": "ipython3",
   "version": "3.8.3"
  }
 },
 "nbformat": 4,
 "nbformat_minor": 4
}
