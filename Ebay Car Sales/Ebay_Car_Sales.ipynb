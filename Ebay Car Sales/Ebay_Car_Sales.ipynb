{
 "cells": [
  {
   "cell_type": "markdown",
   "metadata": {},
   "source": [
    "# Data Scrubbing and Observation Report - Provided by Ebay\n",
    "\n",
    "**Data Cleaning and Observation Project**\n",
    "\n",
    "Ebay Kleinanzeigen, a classfields section of the German eBay website has provided data of 50,000 listings. At the beginning of the project, the goal will be to clean this data by all means. This project will be initially presented in german as well as containing errors in the data. ."
   ]
  },
  {
   "cell_type": "markdown",
   "metadata": {},
   "source": [
    "## Brief Information about Dataset"
   ]
  },
  {
   "cell_type": "code",
   "execution_count": 2,
   "metadata": {},
   "outputs": [
    {
     "name": "stdout",
     "output_type": "stream",
     "text": [
      "<class 'pandas.core.frame.DataFrame'>\n",
      "RangeIndex: 371528 entries, 0 to 371527\n",
      "Data columns (total 20 columns):\n",
      " #   Column               Non-Null Count   Dtype \n",
      "---  ------               --------------   ----- \n",
      " 0   dateCrawled          371528 non-null  object\n",
      " 1   name                 371528 non-null  object\n",
      " 2   seller               371528 non-null  object\n",
      " 3   offerType            371528 non-null  object\n",
      " 4   price                371528 non-null  int64 \n",
      " 5   abtest               371528 non-null  object\n",
      " 6   vehicleType          333659 non-null  object\n",
      " 7   yearOfRegistration   371528 non-null  int64 \n",
      " 8   gearbox              351319 non-null  object\n",
      " 9   powerPS              371528 non-null  int64 \n",
      " 10  model                351044 non-null  object\n",
      " 11  kilometer            371528 non-null  int64 \n",
      " 12  monthOfRegistration  371528 non-null  int64 \n",
      " 13  fuelType             338142 non-null  object\n",
      " 14  brand                371528 non-null  object\n",
      " 15  notRepairedDamage    299468 non-null  object\n",
      " 16  dateCreated          371528 non-null  object\n",
      " 17  nrOfPictures         371528 non-null  int64 \n",
      " 18  postalCode           371528 non-null  int64 \n",
      " 19  lastSeen             371528 non-null  object\n",
      "dtypes: int64(7), object(13)\n",
      "memory usage: 56.7+ MB\n"
     ]
    }
   ],
   "source": [
    "# Import pandas library\n",
    "import pandas as pd\n",
    "\n",
    "# Open file and import dataset as an dataframe\n",
    "autos = pd.read_csv('autos.csv', encoding = \"Latin-1\")\n",
    "\n",
    "# Display information about the dataset\n",
    "autos.info()"
   ]
  },
  {
   "cell_type": "code",
   "execution_count": null,
   "metadata": {},
   "outputs": [],
   "source": [
    "# Display the first 3 rows\n",
    "print(autos.head(3))"
   ]
  },
  {
   "cell_type": "markdown",
   "metadata": {},
   "source": [
    "From the information presented above, we can conclude that there are two different data types, int64 and objects. There are a few columns that contain null values, those columns being the `model`, `vehicle type`,`gearbox`, `fuelType`and `notRepairedDamage` columns with approximately `20,484`, `37,869`, `20,209`, `33,386` and `72,060` null values respectively. As previously mentioned in the project README there are german words that need to be converted to the English language as well. Not to mention the usage of camelcase type spelling to represent each colomn.\n"
   ]
  },
  {
   "cell_type": "markdown",
   "metadata": {},
   "source": [
    "## Column Replacement - Snakecase"
   ]
  },
  {
   "cell_type": "code",
   "execution_count": 3,
   "metadata": {},
   "outputs": [
    {
     "name": "stdout",
     "output_type": "stream",
     "text": [
      "Index(['date_crawled', 'name', 'seller', 'offer_type', 'price', 'abtest',\n",
      "       'vehicle_type', 'registration_year', 'gearbox', 'power_ps', 'model',\n",
      "       'odometer_km', 'registration_month', 'fuel_type', 'brand',\n",
      "       'unrepaired_damage', 'ad_created', 'n_of_pictures', 'postal_code',\n",
      "       'last_seen'],\n",
      "      dtype='object')\n"
     ]
    }
   ],
   "source": [
    "# Rename the autos dataframe columns\n",
    "autos.columns = ['date_crawled', 'name', 'seller', 'offer_type', 'price', 'abtest', 'vehicle_type', 'registration_year', 'gearbox', 'power_ps', 'model', 'odometer_km', 'registration_month', 'fuel_type', 'brand', 'unrepaired_damage', 'ad_created', 'n_of_pictures', 'postal_code', 'last_seen']\n",
    "\n",
    "# Print snakecase version of autos dataframe columns\n",
    "print(autos.columns)"
   ]
  },
  {
   "cell_type": "code",
   "execution_count": null,
   "metadata": {
    "scrolled": true
   },
   "outputs": [],
   "source": [
    "autos.head(4)"
   ]
  },
  {
   "cell_type": "markdown",
   "metadata": {},
   "source": [
    "The previous columns were presented in a camelcase format. From the dataframe above, those values have been corrected and are now presented in a more preferred snakecase format."
   ]
  },
  {
   "cell_type": "markdown",
   "metadata": {},
   "source": [
    "## Brief Exploration of Dataset\n",
    "\n",
    "Below we will take a further look at the data to see what additional tasks need to be carried out to complete cleaning this dataset."
   ]
  },
  {
   "cell_type": "code",
   "execution_count": null,
   "metadata": {},
   "outputs": [],
   "source": [
    "autos.describe(include = 'all')"
   ]
  },
  {
   "cell_type": "markdown",
   "metadata": {},
   "source": [
    "In the line of code below we will use the python statement to look at each column individually. There will only be one column present because the analysis will have already been completed. For the sake of explaining the steps in this project, I will not remove the obsolete line of code. As for the second line of code, this particular statement will display the datatypes for each column present. "
   ]
  },
  {
   "cell_type": "code",
   "execution_count": null,
   "metadata": {},
   "outputs": [],
   "source": [
    "#autos['postal_code'].value_counts()"
   ]
  },
  {
   "cell_type": "code",
   "execution_count": null,
   "metadata": {},
   "outputs": [],
   "source": [
    "#autos['price'].apply(type)"
   ]
  },
  {
   "cell_type": "markdown",
   "metadata": {},
   "source": [
    "After our analysis I have made a list of some of changes that need to be made within this dataset. These items include:\n",
    "* Convert each column to proper datatype `price, vehicle_type`, `model, kilometer`, `fuel_type`, `unreparied_damage`\n",
    "* Columns that have mostly one value and are candidates to be dropped `seller`, `offer_type`\n",
    "* Seperate/Format time and date `ad_created`, `date_crawled` Format time and date `last_seen`\n",
    "* Address special colums - formatting errors `price`, `power_ps`\n",
    "* Convert German words to English language `seller`, `offer_type`, `gearbox`, `fuel_type`, `unrepaired_damage`, `vehicle_type`, `abtest`\n",
    "* Regulate `registration_year` ranges"
   ]
  },
  {
   "cell_type": "markdown",
   "metadata": {},
   "source": [
    "## Data Cleaning\n",
    "\n",
    "**Convert each column to proper datatype `price, vehicle_type`, `model, kilometer`, `fuel_type`, `unreparied_damage`, `gearbox`**"
   ]
  },
  {
   "cell_type": "code",
   "execution_count": 15,
   "metadata": {},
   "outputs": [
    {
     "name": "stderr",
     "output_type": "stream",
     "text": [
      "<ipython-input-15-fb49d8032125>:9: FutureWarning: The default value of regex will change from True to False in a future version. In addition, single character regular expressions will*not* be treated as literal strings when regex=True.\n",
      "  autos.loc[:,'price'] = autos.loc[:,'price'].astype(str).str.replace(\"$\",\"\").str.replace(\",\",\"\")\n"
     ]
    }
   ],
   "source": [
    "# Convert datatype to a string\n",
    "autos.loc[:,'vehicle_type'] = autos.loc[:,'vehicle_type'].astype(str)\n",
    "autos.loc[:,'model'] = autos.loc[:,'model'].astype(str)\n",
    "autos.loc[:,'fuel_type'] = autos.loc[:,'fuel_type'].astype(str)\n",
    "autos.loc[:,'unrepaired_damage'] = autos['unrepaired_damage'].astype(str)\n",
    "autos.loc[:,'gearbox'] = autos.loc[:,'gearbox'].astype(str)\n",
    "\n",
    "# Convert column to a string and remove additional characters - Convert to an interger datatype\n",
    "autos.loc[:,'price'] = autos.loc[:,'price'].astype(str).str.replace(\"$\",\"\").str.replace(\",\",\"\")\n",
    "autos.loc[:,'price'] = autos.loc[:,'price'].astype(int)\n",
    "\n",
    "autos.loc[:,'odometer_km'] = autos.loc[:,'odometer_km'].astype(str).str.replace(\"km\",\"\").str.replace(\",\",\"\")\n",
    "autos.loc[:,'odometer_km'] = autos.loc[:,'odometer_km'].astype(int)\n",
    "\n"
   ]
  },
  {
   "cell_type": "markdown",
   "metadata": {},
   "source": [
    "**Columns that have mostly one value and are candidates to be dropped `seller`, `offer_type`**"
   ]
  },
  {
   "cell_type": "code",
   "execution_count": 6,
   "metadata": {},
   "outputs": [
    {
     "name": "stdout",
     "output_type": "stream",
     "text": [
      "'Seller': ['privat' 'gewerblich'] Count: dict_values([371525, 3])\n",
      "'Offer Type': ['Angebot' 'Gesuch'] Count: dict_values([371516, 12])\n"
     ]
    }
   ],
   "source": [
    "# Determine unique values in each column\n",
    "s = autos['seller'].unique()\n",
    "ot = autos['offer_type'].unique()\n",
    "\n",
    "# Determine distribution for each unique value in each column\n",
    "s_dict = {}\n",
    "for i in autos['seller']:\n",
    "    if i not in s_dict:\n",
    "        s_dict[i] = 1\n",
    "    else:\n",
    "        s_dict[i] += 1\n",
    "\n",
    "ot_dict = {}\n",
    "for i in autos['offer_type']:\n",
    "    if i not in ot_dict:\n",
    "        ot_dict[i] = 1\n",
    "    else:\n",
    "        ot_dict[i] += 1\n",
    "\n",
    "# Display Results\n",
    "print(\"'Seller': {0} Count: \".format(s) + str(s_dict.values())) \n",
    "print(\"'Offer Type': {0} Count: \".format(ot) + str(ot_dict.values()))"
   ]
  },
  {
   "cell_type": "markdown",
   "metadata": {},
   "source": [
    "Given the numberic count for both \"Gewerblich\" and \"Gesuch\" under the 'Seller' and 'Offer Type' columns are far below 1%, these records will be removed from the dataset."
   ]
  },
  {
   "cell_type": "code",
   "execution_count": null,
   "metadata": {},
   "outputs": [],
   "source": [
    "# Remove all records from the defined column - Display Res ults\n",
    "autos = autos[autos['seller'] != 'gewerblich']\n",
    "autos['seller'].unique()"
   ]
  },
  {
   "cell_type": "code",
   "execution_count": null,
   "metadata": {},
   "outputs": [],
   "source": [
    "# Remove all records from the defined column - Display Results\n",
    "autos = autos[autos['offer_type'] != 'Gesuch']\n",
    "autos['offer_type'].unique()"
   ]
  },
  {
   "cell_type": "markdown",
   "metadata": {},
   "source": [
    "**Seperate/Format time and date `ad_created`, `date_crawled` Format time and date `last_seen`**"
   ]
  },
  {
   "cell_type": "code",
   "execution_count": 7,
   "metadata": {},
   "outputs": [
    {
     "data": {
      "text/html": [
       "<div>\n",
       "<style scoped>\n",
       "    .dataframe tbody tr th:only-of-type {\n",
       "        vertical-align: middle;\n",
       "    }\n",
       "\n",
       "    .dataframe tbody tr th {\n",
       "        vertical-align: top;\n",
       "    }\n",
       "\n",
       "    .dataframe thead th {\n",
       "        text-align: right;\n",
       "    }\n",
       "</style>\n",
       "<table border=\"1\" class=\"dataframe\">\n",
       "  <thead>\n",
       "    <tr style=\"text-align: right;\">\n",
       "      <th></th>\n",
       "      <th>date_crawled</th>\n",
       "      <th>ad_created</th>\n",
       "      <th>last_seen</th>\n",
       "      <th>last_seen_hour</th>\n",
       "    </tr>\n",
       "  </thead>\n",
       "  <tbody>\n",
       "    <tr>\n",
       "      <th>0</th>\n",
       "      <td>2016-03-24</td>\n",
       "      <td>2016-03-24</td>\n",
       "      <td>2016-04-07</td>\n",
       "      <td>3:16:57</td>\n",
       "    </tr>\n",
       "    <tr>\n",
       "      <th>1</th>\n",
       "      <td>2016-03-24</td>\n",
       "      <td>2016-03-24</td>\n",
       "      <td>2016-04-07</td>\n",
       "      <td>1:46:50</td>\n",
       "    </tr>\n",
       "    <tr>\n",
       "      <th>2</th>\n",
       "      <td>2016-03-14</td>\n",
       "      <td>2016-03-14</td>\n",
       "      <td>2016-04-05</td>\n",
       "      <td>2:47:46</td>\n",
       "    </tr>\n",
       "    <tr>\n",
       "      <th>3</th>\n",
       "      <td>2016-03-17</td>\n",
       "      <td>2016-03-17</td>\n",
       "      <td>2016-03-17</td>\n",
       "      <td>7:40:17</td>\n",
       "    </tr>\n",
       "    <tr>\n",
       "      <th>4</th>\n",
       "      <td>2016-03-31</td>\n",
       "      <td>2016-03-31</td>\n",
       "      <td>2016-04-06</td>\n",
       "      <td>0:17:21</td>\n",
       "    </tr>\n",
       "    <tr>\n",
       "      <th>...</th>\n",
       "      <td>...</td>\n",
       "      <td>...</td>\n",
       "      <td>...</td>\n",
       "      <td>...</td>\n",
       "    </tr>\n",
       "    <tr>\n",
       "      <th>371523</th>\n",
       "      <td>2016-03-14</td>\n",
       "      <td>2016-03-14</td>\n",
       "      <td>2016-04-06</td>\n",
       "      <td>0:46:52</td>\n",
       "    </tr>\n",
       "    <tr>\n",
       "      <th>371524</th>\n",
       "      <td>2016-03-05</td>\n",
       "      <td>2016-03-05</td>\n",
       "      <td>2016-03-11</td>\n",
       "      <td>8:17:12</td>\n",
       "    </tr>\n",
       "    <tr>\n",
       "      <th>371525</th>\n",
       "      <td>2016-03-19</td>\n",
       "      <td>2016-03-19</td>\n",
       "      <td>2016-04-07</td>\n",
       "      <td>7:15:26</td>\n",
       "    </tr>\n",
       "    <tr>\n",
       "      <th>371526</th>\n",
       "      <td>2016-03-20</td>\n",
       "      <td>2016-03-20</td>\n",
       "      <td>2016-03-24</td>\n",
       "      <td>2:45:21</td>\n",
       "    </tr>\n",
       "    <tr>\n",
       "      <th>371527</th>\n",
       "      <td>2016-03-07</td>\n",
       "      <td>2016-03-07</td>\n",
       "      <td>2016-03-22</td>\n",
       "      <td>3:17:10</td>\n",
       "    </tr>\n",
       "  </tbody>\n",
       "</table>\n",
       "<p>371528 rows × 4 columns</p>\n",
       "</div>"
      ],
      "text/plain": [
       "       date_crawled  ad_created   last_seen last_seen_hour\n",
       "0        2016-03-24  2016-03-24  2016-04-07        3:16:57\n",
       "1        2016-03-24  2016-03-24  2016-04-07        1:46:50\n",
       "2        2016-03-14  2016-03-14  2016-04-05        2:47:46\n",
       "3        2016-03-17  2016-03-17  2016-03-17        7:40:17\n",
       "4        2016-03-31  2016-03-31  2016-04-06        0:17:21\n",
       "...             ...         ...         ...            ...\n",
       "371523   2016-03-14  2016-03-14  2016-04-06        0:46:52\n",
       "371524   2016-03-05  2016-03-05  2016-03-11        8:17:12\n",
       "371525   2016-03-19  2016-03-19  2016-04-07        7:15:26\n",
       "371526   2016-03-20  2016-03-20  2016-03-24        2:45:21\n",
       "371527   2016-03-07  2016-03-07  2016-03-22        3:17:10\n",
       "\n",
       "[371528 rows x 4 columns]"
      ]
     },
     "execution_count": 7,
     "metadata": {},
     "output_type": "execute_result"
    }
   ],
   "source": [
    "# Import datetime lirbrary\n",
    "import datetime as dt\n",
    "\n",
    "# Format defined column by date and times\n",
    "autos['date_crawled'] = autos['date_crawled'].str[:10]\n",
    "autos['ad_created'] = autos['ad_created'].str[:10]\n",
    "last_seen_copy = autos['last_seen'].copy()\n",
    "autos['last_seen'] = autos['last_seen'].str[:10]\n",
    "autos['last_seen_hour'] = last_seen_copy.str[12:]\n",
    "\n",
    "# Display Results\n",
    "autos[['date_crawled', 'ad_created', 'last_seen', 'last_seen_hour']]"
   ]
  },
  {
   "cell_type": "markdown",
   "metadata": {},
   "source": [
    "Brief Discription about the results from above"
   ]
  },
  {
   "cell_type": "markdown",
   "metadata": {},
   "source": [
    "**Address special colums - Additional Formating `price`, `power_ps`**"
   ]
  },
  {
   "cell_type": "code",
   "execution_count": 8,
   "metadata": {},
   "outputs": [
    {
     "name": "stdout",
     "output_type": "stream",
     "text": [
      "Price - Statistical Report\n",
      "\n",
      "Mininum Value: 0\n",
      "Maximum Value: 2147483647\n",
      "\n",
      "count    3.715280e+05\n",
      "mean     1.729514e+04\n",
      "std      3.587954e+06\n",
      "min      0.000000e+00\n",
      "25%      1.150000e+03\n",
      "50%      2.950000e+03\n",
      "75%      7.200000e+03\n",
      "max      2.147484e+09\n",
      "Name: price, dtype: float64\n",
      "\n",
      "\n",
      "Power(PS) - Statistical Report\n",
      "\n",
      "Mininum Value: 0\n",
      "Maximum Value: 20000\n",
      "\n",
      "count    371528.000000\n",
      "mean        115.549477\n",
      "std         192.139578\n",
      "min           0.000000\n",
      "25%          70.000000\n",
      "50%         105.000000\n",
      "75%         150.000000\n",
      "max       20000.000000\n",
      "Name: power_ps, dtype: float64\n"
     ]
    }
   ],
   "source": [
    "# Display Statistcal Report for each column\n",
    "def min_max(column1, column2 , name1, name2):\n",
    "    min_value_1 = column1.min()\n",
    "    min_value_2 = column2.min()\n",
    "     \n",
    "    max_value_1 = column1.max()\n",
    "    max_value_2 = column2.max()\n",
    "    \n",
    "    print(str(name1) + \" - Statistical Report\\n\\nMininum Value: {0}\\nMaximum Value: {1}\\n\\n\".format(min_value_1, max_value_1) + str(column1.describe()))\n",
    "    print(\"\\n\\n\" + str(name2) + \" - Statistical Report\\n\\nMininum Value: {0}\\nMaximum Value: {1}\\n\\n\".format(min_value_2, max_value_2) + str(column2.describe()))\n",
    "\n",
    "# Display unformatted results\n",
    "min_max(autos[\"price\"], autos[\"power_ps\"], \"Price\", \"Power(PS)\")"
   ]
  },
  {
   "cell_type": "markdown",
   "metadata": {},
   "source": [
    "With a quick obervation we can see that the `price` column in denoted by a scientific notation value as to the `power_ps` column carrying a multitude of decimal places. Below we will format the data appropriately using the `options.display.float_format` function in pandas; converting each value to 2 decimal places."
   ]
  },
  {
   "cell_type": "code",
   "execution_count": 9,
   "metadata": {},
   "outputs": [
    {
     "data": {
      "text/html": [
       "<div>\n",
       "<style scoped>\n",
       "    .dataframe tbody tr th:only-of-type {\n",
       "        vertical-align: middle;\n",
       "    }\n",
       "\n",
       "    .dataframe tbody tr th {\n",
       "        vertical-align: top;\n",
       "    }\n",
       "\n",
       "    .dataframe thead th {\n",
       "        text-align: right;\n",
       "    }\n",
       "</style>\n",
       "<table border=\"1\" class=\"dataframe\">\n",
       "  <thead>\n",
       "    <tr style=\"text-align: right;\">\n",
       "      <th></th>\n",
       "      <th>price</th>\n",
       "      <th>power_ps</th>\n",
       "    </tr>\n",
       "  </thead>\n",
       "  <tbody>\n",
       "    <tr>\n",
       "      <th>count</th>\n",
       "      <td>2.00</td>\n",
       "      <td>2.00</td>\n",
       "    </tr>\n",
       "    <tr>\n",
       "      <th>mean</th>\n",
       "      <td>9,390.00</td>\n",
       "      <td>95.00</td>\n",
       "    </tr>\n",
       "    <tr>\n",
       "      <th>std</th>\n",
       "      <td>12,600.64</td>\n",
       "      <td>134.35</td>\n",
       "    </tr>\n",
       "    <tr>\n",
       "      <th>min</th>\n",
       "      <td>480.00</td>\n",
       "      <td>0.00</td>\n",
       "    </tr>\n",
       "    <tr>\n",
       "      <th>25%</th>\n",
       "      <td>4,935.00</td>\n",
       "      <td>47.50</td>\n",
       "    </tr>\n",
       "    <tr>\n",
       "      <th>50%</th>\n",
       "      <td>9,390.00</td>\n",
       "      <td>95.00</td>\n",
       "    </tr>\n",
       "    <tr>\n",
       "      <th>75%</th>\n",
       "      <td>13,845.00</td>\n",
       "      <td>142.50</td>\n",
       "    </tr>\n",
       "    <tr>\n",
       "      <th>max</th>\n",
       "      <td>18,300.00</td>\n",
       "      <td>190.00</td>\n",
       "    </tr>\n",
       "  </tbody>\n",
       "</table>\n",
       "</div>"
      ],
      "text/plain": [
       "          price  power_ps\n",
       "count      2.00      2.00\n",
       "mean   9,390.00     95.00\n",
       "std   12,600.64    134.35\n",
       "min      480.00      0.00\n",
       "25%    4,935.00     47.50\n",
       "50%    9,390.00     95.00\n",
       "75%   13,845.00    142.50\n",
       "max   18,300.00    190.00"
      ]
     },
     "execution_count": 9,
     "metadata": {},
     "output_type": "execute_result"
    }
   ],
   "source": [
    "# Formatted columns \n",
    "pd.options.display.float_format = '{:,.2f}'.format\n",
    "\n",
    "# Display Results\n",
    "autos.loc[0:1,[\"price\", \"power_ps\"]].describe()"
   ]
  },
  {
   "cell_type": "markdown",
   "metadata": {},
   "source": [
    "*Convert German words to English language `seller`, `offer_type`, `gearbox`, `fuel_type`, `unrepaired_damage`, `vehicle_type`, `abtest`*"
   ]
  },
  {
   "cell_type": "code",
   "execution_count": 30,
   "metadata": {},
   "outputs": [
    {
     "name": "stdout",
     "output_type": "stream",
     "text": [
      "['Golf' 'Nan' 'Grand' 'Fabia' '3er' '2_reihe' 'Andere' 'C_max' '3_reihe'\n",
      " 'Passat' 'Navara' 'Ka' 'Polo' 'Twingo' 'A_klasse' 'Scirocco' '5er'\n",
      " 'Meriva' 'Arosa' 'C4' 'Civic' 'Transporter' 'Punto' 'E_klasse' 'Clio'\n",
      " 'Kadett' 'Kangoo' 'Corsa' 'One' 'Fortwo' '1er' 'B_klasse' 'Signum'\n",
      " 'Astra' 'A8' 'Jetta' 'Fiesta' 'C_klasse' 'Micra' 'Vito' 'Sprinter' '156'\n",
      " 'Escort' 'Forester' 'Xc_reihe' 'Scenic' 'A4' 'A1' 'Insignia' 'Combo'\n",
      " 'Focus' 'Tt' 'A6' 'Jazz' 'Omega' 'Slk' '7er' '80' '147' 'Glk' '100'\n",
      " 'Z_reihe' 'Sportage' 'Sorento' 'V40' 'Ibiza' 'Mustang' 'Eos' 'Touran'\n",
      " 'Getz' 'A3' 'Almera' 'Megane' 'Lupo' 'R19' 'Zafira' 'Caddy' 'Mondeo'\n",
      " 'Cordoba' 'Colt' 'Impreza' 'Vectra' 'Berlingo' 'M_klasse' 'Tiguan'\n",
      " 'I_reihe' 'Espace' 'Sharan' '6_reihe' 'Panda' 'Up' 'Seicento' 'Ceed'\n",
      " '5_reihe' 'Yeti' 'Octavia' 'Mii' 'Rx_reihe' '6er' 'Modus' 'Fox' 'Matiz'\n",
      " 'Beetle' 'C1' 'Rio' 'Touareg' 'Logan' 'Spider' 'Cuore' 'S_max' 'A2'\n",
      " 'X_reihe' 'A5' 'Galaxy' 'C3' 'Viano' 'S_klasse' '1_reihe' 'Avensis' 'Sl'\n",
      " 'Roomster' 'Q5' 'Kaefer' 'Santa' 'Cooper' 'Leon' '4_reihe' '500' 'Laguna'\n",
      " 'Ptcruiser' 'Clk' 'Primera' 'Exeo' '159' 'Transit' 'Juke' 'Qashqai'\n",
      " 'Carisma' 'Accord' 'Corolla' 'Lanos' 'Phaeton' 'Boxster' 'Verso' 'Swift'\n",
      " 'Rav' 'Kuga' 'Picanto' 'Kalos' 'Superb' 'Stilo' 'Alhambra' '911'\n",
      " 'Mx_reihe' 'M_reihe' 'Roadster' 'Ypsilon' 'Cayenne' 'Galant' 'Justy' '90'\n",
      " 'Sirion' 'Crossfire' 'Agila' 'Duster' 'Cr_reihe' 'V50' 'Discovery'\n",
      " 'C_reihe' 'V_klasse' 'Yaris' 'C5' 'Aygo' 'Cc' 'Carnival' 'Fusion' 'Bora'\n",
      " 'Forfour' 'Cl' 'Tigra' '300c' 'Q3' 'Spark' 'V70' 'X_type' 'Ducato'\n",
      " 'S_type' 'X_trail' 'Toledo' 'Altea' 'Voyager' 'Calibra' 'Bravo'\n",
      " 'Range_rover' 'Antara' 'Tucson' 'Q7' 'Citigo' 'Jimny' 'Cx_reihe'\n",
      " 'Wrangler' 'Lybra' 'Range_rover_sport' 'Lancer' 'Freelander' 'Captiva'\n",
      " 'C2' 'Range_rover_evoque' 'Sandero' 'Note' '900' 'Defender' 'Cherokee'\n",
      " 'Clubman' 'Samara' '601' 'Legacy' 'Pajero' 'Auris' 'Niva' 'S60' 'Nubira'\n",
      " 'Vivaro' 'G_klasse' 'Lodgy' '850' 'Serie_2' 'Charade' 'Croma' 'Outlander'\n",
      " 'Gl' 'Doblo' 'Musa' 'Amarok' 'Move' '9000' 'V60' '145' 'Aveo' '200'\n",
      " 'B_max' 'Delta' 'Terios' 'Rangerover' 'Materia' 'Kalina' 'Elefantino'\n",
      " 'I3' 'Kappa' 'Serie_3' 'Serie_1' 'Discovery_sport']\n"
     ]
    }
   ],
   "source": [
    "\n",
    "\n",
    "# Replace all German words with their English translation\n",
    "autos[\"seller\"] = autos[\"seller\"].replace(\"privat\", \"Private\")\n",
    "autos[\"offer_type\"] = autos[\"offer_type\"].replace(\"Angebot\", \"Offer\")\n",
    "autos[\"gearbox\"] = autos[\"gearbox\"].replace(\"manuell\", \"Manual\").replace(\"automatik\", \"Automatic\")\n",
    "autos[\"fuel_type\"] = autos[\"fuel_type\"].replace(\"benzin\", \"Gasoline\").replace(\"diesel\", \"Diesel\")\n",
    "autos[\"unrepaired_damage\"] = autos[\"unrepaired_damage\"].replace(\"ja\", \"Yes\").replace(\"nan\", \"Nan\").replace(\"nein\", \"No\")\n",
    "autos[\"vehicle_type\"] = autos[\"vehicle_type\"].replace(\"kleinwagen\", \"Mini\").replace(\"coupe\", \"Coupe\").replace(\"suv\", \"SUV\").replace(\"limousine\", \"Limousine\").replace(\"cabrio\", \"Convertible\").replace(\"bus\", \"Bus\").replace(\"kombi\", \"Combination\").replace(\"andere\", \"Other\")\n",
    "autos[\"abtest\"] = autos[\"abtest\"].replace(\"test\", \"Test\").replace(\"control\", \"Control\") \n",
    "autos[\"model\"] = autos[\"model\"].replace(\"2_reihe\", \"2 Series\").replace(\"Andere\", \"Other).replace(\"3_reihe\", \"3 Series\").replace(\"A_klasse\", \"A Class\").replace(\"3er\", \"3s\").replace(\"5er\", \"5s\").replace(\"E_klasse\", \"E Class\").replace(\"Kadett\", \"Cadet\").replace(\"1er\", \"1s\").replace(\"B_klasse\", \"B Class\").replace(\"C_klasse\", \"C Class\").replace(\"Xc_reihe\", \"Xc series\").replace(\"7er\", \"7s\").replace(\"Z_reihe\", \"Z Series\").replace(\"M_klasse\", \"M Class\").replace(\"I_reihe\", \"I Series\").replace(\"6_reihe\", \"6 Series\").replace(\"5_reihe\", \"5 Series\").replace(\"Rx_reihe\", \"Rx Series\").replace(\"6er\", \"6s\").replace(\"X_reihe\", \"X Series\").replace(\"S_klasse\", \"S Class\").replace(\"1_reihe\", \"1 Series\")\n",
    "Number 3\n",
    "print(autos[\"model\"].unique())\n",
    "\n",
    "\n",
    "\n",
    "# Capitalize all Words\n",
    "autos[\"model\"] = autos[\"model\"].str.capitalize()\n",
    "autos[\"brand\"] = autos[\"brand\"].str.capitalize()\n",
    "\n",
    "\n",
    "\n",
    "\n",
    "\n",
    "\n",
    "# Display Results\n",
    "#utos.loc[30:60]"
   ]
  },
  {
   "cell_type": "markdown",
   "metadata": {},
   "source": [
    "Now that the majority of the words presented in this dataframe have been translated in English, we have a clear understanding of each record and its data points. With that being said, columns `model` and `brand` were left alone for there are at least 50 multiple unique items for each and for the most part, those translations will remain the same. "
   ]
  },
  {
   "cell_type": "markdown",
   "metadata": {},
   "source": [
    "**Regulate `registration_year` ranges**"
   ]
  },
  {
   "cell_type": "code",
   "execution_count": 18,
   "metadata": {},
   "outputs": [
    {
     "data": {
      "text/plain": [
       "array([1993, 2011, 2004, 2001, 2008, 1995, 1980, 2014, 1998, 2005, 1910,\n",
       "       2016, 2007, 2009, 2002, 1997, 1990, 1981, 2003, 1994, 1991, 1984,\n",
       "       2006, 1999, 2012, 2010, 2000, 1992, 2013, 1996, 1985, 1989, 2015,\n",
       "       1968, 1982, 1976, 1983, 1959, 1973, 1969, 1971, 1987, 1986, 1988,\n",
       "       1967, 1970, 1965, 1945, 1925, 1974, 1979, 1955, 1978, 1972, 1977,\n",
       "       1961, 1963, 1964, 1960, 1966, 1975, 1937, 1936, 1954, 1958, 1956,\n",
       "       1933, 1941, 1962, 1929, 1951, 1957, 1940, 1949, 1953, 1935, 1950,\n",
       "       1948, 1952, 1932, 1927, 1923, 1931, 1942, 1911, 1930, 1944, 1943,\n",
       "       1947, 1934, 1938, 1928, 1919, 1939, 1915, 1920, 1946], dtype=int64)"
      ]
     },
     "execution_count": 18,
     "metadata": {},
     "output_type": "execute_result"
    }
   ],
   "source": [
    "# Remove all rows where the registration year is not in range\n",
    "autos = autos.drop(autos[(autos[\"registration_year\"] > 2016) | (autos[\"registration_year\"] < 1900)].index)\n",
    "\n",
    "# Display Results\n",
    "autos['registration_year'].unique()\n"
   ]
  },
  {
   "cell_type": "code",
   "execution_count": null,
   "metadata": {},
   "outputs": [],
   "source": [
    "less_1990 = autos.loc[autos[\"registration_year\"] < 1990, \"registration_year\"] = True\n",
    "\n"
   ]
  }
 ],
 "metadata": {
  "kernelspec": {
   "display_name": "Python 3",
   "language": "python",
   "name": "python3"
  },
  "language_info": {
   "codemirror_mode": {
    "name": "ipython",
    "version": 3
   },
   "file_extension": ".py",
   "mimetype": "text/x-python",
   "name": "python",
   "nbconvert_exporter": "python",
   "pygments_lexer": "ipython3",
   "version": "3.8.3"
  }
 },
 "nbformat": 4,
 "nbformat_minor": 4
}
