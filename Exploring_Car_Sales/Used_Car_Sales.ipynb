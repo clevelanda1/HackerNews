{
 "cells": [
  {
   "cell_type": "markdown",
   "metadata": {},
   "source": [
    "# Data Scrubbing and Observation Report - Provided by Ebay\n",
    "\n",
    "**Data Cleaning and Observation Project**\n",
    "\n",
    "Ebay Kleinanzeigen, a classfields section of the German eBay website has provided data of 50,000 listings. At the beginning of the project, the goal will be to clean this data by all means. This project will be initially presented in german as well as containing errors in the data. ."
   ]
  },
  {
   "cell_type": "markdown",
   "metadata": {},
   "source": [
    "## Brief Information about Dataset"
   ]
  },
  {
   "cell_type": "code",
   "execution_count": 1,
   "metadata": {},
   "outputs": [
    {
     "name": "stdout",
     "output_type": "stream",
     "text": [
      "<class 'pandas.core.frame.DataFrame'>\n",
      "RangeIndex: 371528 entries, 0 to 371527\n",
      "Data columns (total 20 columns):\n",
      " #   Column               Non-Null Count   Dtype \n",
      "---  ------               --------------   ----- \n",
      " 0   dateCrawled          371528 non-null  object\n",
      " 1   name                 371528 non-null  object\n",
      " 2   seller               371528 non-null  object\n",
      " 3   offerType            371528 non-null  object\n",
      " 4   price                371528 non-null  int64 \n",
      " 5   abtest               371528 non-null  object\n",
      " 6   vehicleType          333659 non-null  object\n",
      " 7   yearOfRegistration   371528 non-null  int64 \n",
      " 8   gearbox              351319 non-null  object\n",
      " 9   powerPS              371528 non-null  int64 \n",
      " 10  model                351044 non-null  object\n",
      " 11  kilometer            371528 non-null  int64 \n",
      " 12  monthOfRegistration  371528 non-null  int64 \n",
      " 13  fuelType             338142 non-null  object\n",
      " 14  brand                371528 non-null  object\n",
      " 15  notRepairedDamage    299468 non-null  object\n",
      " 16  dateCreated          371528 non-null  object\n",
      " 17  nrOfPictures         371528 non-null  int64 \n",
      " 18  postalCode           371528 non-null  int64 \n",
      " 19  lastSeen             371528 non-null  object\n",
      "dtypes: int64(7), object(13)\n",
      "memory usage: 56.7+ MB\n"
     ]
    }
   ],
   "source": [
    "# Import pandas library\n",
    "import pandas as pd\n",
    "\n",
    "# Open file and import dataset as an dataframe\n",
    "autos = pd.read_csv('autos.csv', encoding = \"Latin-1\")\n",
    "\n",
    "# Display information about the dataset\n",
    "autos.info()"
   ]
  },
  {
   "cell_type": "code",
   "execution_count": null,
   "metadata": {},
   "outputs": [],
   "source": [
    "# Display the first 3 rows\n",
    "autos.head(3)"
   ]
  },
  {
   "cell_type": "markdown",
   "metadata": {},
   "source": [
    "From the information presented above, we can conclude that there are two different data types, int64 and objects. There are a few columns that contain null values, those columns being the `model`, `vehicle type`,`gearbox`, `fuelType`and `notRepairedDamage` columns with approximately `20,484`, `37,869`, `20,209`, `33,386` and `72,060` null values respectively. As previously mentioned in the project README there are german words that need to be converted to the English language as well. Not to mention the usage of camelcase type spelling to represent each colomn.\n"
   ]
  },
  {
   "cell_type": "markdown",
   "metadata": {},
   "source": [
    "## Column Replacement - Snakecase"
   ]
  },
  {
   "cell_type": "code",
   "execution_count": 2,
   "metadata": {},
   "outputs": [
    {
     "name": "stdout",
     "output_type": "stream",
     "text": [
      "Index(['date_crawled', 'name', 'seller', 'offer_type', 'price', 'abtest',\n",
      "       'vehicle_type', 'registration_year', 'gearbox', 'power_ps', 'model',\n",
      "       'odometer_km', 'registration_month', 'fuel_type', 'brand',\n",
      "       'unrepaired_damage', 'ad_created', 'n_of_pictures', 'postal_code',\n",
      "       'last_seen'],\n",
      "      dtype='object')\n"
     ]
    }
   ],
   "source": [
    "# Rename the autos dataframe columns\n",
    "autos.columns = ['date_crawled', 'name', 'seller', 'offer_type', 'price', 'abtest', 'vehicle_type', 'registration_year', 'gearbox', 'power_ps', 'model', 'odometer_km', 'registration_month', 'fuel_type', 'brand', 'unrepaired_damage', 'ad_created', 'n_of_pictures', 'postal_code', 'last_seen']\n",
    "\n",
    "# Print snakecase version of autos dataframe columns\n",
    "print(autos.columns)"
   ]
  },
  {
   "cell_type": "code",
   "execution_count": null,
   "metadata": {
    "scrolled": true
   },
   "outputs": [],
   "source": [
    "autos.head(4)"
   ]
  },
  {
   "cell_type": "markdown",
   "metadata": {},
   "source": [
    "The previous columns were presented in a camelcase format. From the dataframe above, those values have been corrected and are now presented in a more preferred snakecase format."
   ]
  },
  {
   "cell_type": "markdown",
   "metadata": {},
   "source": [
    "## Brief Exploration of Dataset\n",
    "\n",
    "Below we will take a further look at the data to see what additional tasks need to be carried out to complete cleaning this dataset."
   ]
  },
  {
   "cell_type": "code",
   "execution_count": null,
   "metadata": {},
   "outputs": [],
   "source": [
    "autos.describe(include = 'all')"
   ]
  },
  {
   "cell_type": "markdown",
   "metadata": {},
   "source": [
    "In the line of code below we will use the python statement to look at each column individually. There will only be one column present because the analysis will have already been completed. For the sake of explaining the steps in this project, I will not remove the obsolete line of code. As for the second line of code, this particular statement will display the datatypes for each column present. "
   ]
  },
  {
   "cell_type": "code",
   "execution_count": null,
   "metadata": {},
   "outputs": [],
   "source": [
    "#autos['postal_code'].value_counts()"
   ]
  },
  {
   "cell_type": "code",
   "execution_count": null,
   "metadata": {},
   "outputs": [],
   "source": [
    "#autos['price'].apply(type)"
   ]
  },
  {
   "cell_type": "markdown",
   "metadata": {},
   "source": [
    "After our analysis I have made a list of some of changes that need to be made within this dataset. These items include:\n",
    "* Convert each column to proper datatype `price, vehicle_type`, `model, kilometer`, `fuel_type`, `unreparied_damage`\n",
    "* Columns that have mostly one value and are candidates to be dropped `seller`, `offer_type`\n",
    "* Seperate/Format time and date `ad_created`, `date_crawled` Format time and date `last_seen`\n",
    "* Address special colums - formatting errors `price`, `power_ps`\n",
    "* Convert German words to English language `seller`, `offer_type`, `gearbox`, `fuel_type`, `unreparied_damage`"
   ]
  },
  {
   "cell_type": "markdown",
   "metadata": {},
   "source": [
    "## Data Cleaning\n",
    "\n",
    "**Convert each column to proper datatype `price, vehicle_type`, `model, kilometer`, `fuel_type`, `unreparied_damage`, `gearbox`**"
   ]
  },
  {
   "cell_type": "code",
   "execution_count": 27,
   "metadata": {},
   "outputs": [
    {
     "name": "stderr",
     "output_type": "stream",
     "text": [
      "<ipython-input-27-cdf419549488>:2: FutureWarning: The default value of regex will change from True to False in a future version. In addition, single character regular expressions will*not* be treated as literal strings when regex=True.\n",
      "  autos.loc[:,'price'] = autos.loc[:,'price'].astype(str).str.replace(\"$\",\"\").str.replace(\",\",\"\")\n"
     ]
    }
   ],
   "source": [
    "# Convert column to a string and remove additional characters - Convert to an interger datatype\n",
    "autos.loc[:,'price'] = autos.loc[:,'price'].astype(str).str.replace(\"$\",\"\").str.replace(\",\",\"\")\n",
    "autos.loc[:,'price'] = autos.loc[:,'price'].astype(int)\n",
    "\n",
    "autos.loc[:,'odometer_km'] = autos.loc[:,'odometer_km'].astype(str).str.replace(\"km\",\"\").str.replace(\",\",\"\")\n",
    "autos.loc[:,'odometer_km'] = autos.loc[:,'odometer_km'].astype(int)\n",
    "\n",
    "# Convert datatype to a string\n",
    "autos.loc[:,'vehicle_type'] = autos.loc[:,'vehicle_type'].astype(str)\n",
    "autos.loc[:,'model'] = autos.loc[:,'model'].astype(str)\n",
    "autos.loc[:,'fuel_type'] = autos.loc[:,'fuel_type'].astype(str)\n",
    "autos.loc[:,'unrepaired_damage'] = autos['unrepaired_damage'].astype(str)\n",
    "autos.loc[:,'gearbox'] = autos.loc[:,'gearbox'].astype(str)"
   ]
  },
  {
   "cell_type": "markdown",
   "metadata": {},
   "source": [
    "**Columns that have mostly one value and are candidates to be dropped `seller`, `offer_type`**"
   ]
  },
  {
   "cell_type": "code",
   "execution_count": 4,
   "metadata": {},
   "outputs": [
    {
     "name": "stdout",
     "output_type": "stream",
     "text": [
      "'Seller': ['privat' 'gewerblich'] Count: dict_values([371525, 3])\n",
      "'Offer Type': ['Angebot' 'Gesuch'] Count: dict_values([371516, 12])\n"
     ]
    }
   ],
   "source": [
    "# Determine unique values in each column\n",
    "s = autos['seller'].unique()\n",
    "ot = autos['offer_type'].unique()\n",
    "\n",
    "# Determine distribution for each unique value in each column\n",
    "s_dict = {}\n",
    "for i in autos['seller']:\n",
    "    if i not in s_dict:\n",
    "        s_dict[i] = 1\n",
    "    else:\n",
    "        s_dict[i] += 1\n",
    "\n",
    "ot_dict = {}\n",
    "for i in autos['offer_type']:\n",
    "    if i not in ot_dict:\n",
    "        ot_dict[i] = 1\n",
    "    else:\n",
    "        ot_dict[i] += 1\n",
    "\n",
    "# Display Results\n",
    "print(\"'Seller': {0} Count: \".format(s) + str(s_dict.values())) \n",
    "print(\"'Offer Type': {0} Count: \".format(ot) + str(ot_dict.values()))"
   ]
  },
  {
   "cell_type": "markdown",
   "metadata": {},
   "source": [
    "Given the numberic count for both \"Gewerblich\" and \"Gesuch\" under the 'Seller' and 'Offer Type' columns are far below 1%, these records will be removed from the dataset."
   ]
  },
  {
   "cell_type": "code",
   "execution_count": 5,
   "metadata": {},
   "outputs": [
    {
     "data": {
      "text/plain": [
       "array(['privat'], dtype=object)"
      ]
     },
     "execution_count": 5,
     "metadata": {},
     "output_type": "execute_result"
    }
   ],
   "source": [
    "# Remove all records from the defined column - Display Res ults\n",
    "autos = autos[autos['seller'] != 'gewerblich']\n",
    "autos['seller'].unique()"
   ]
  },
  {
   "cell_type": "code",
   "execution_count": 6,
   "metadata": {},
   "outputs": [
    {
     "data": {
      "text/plain": [
       "array(['Angebot'], dtype=object)"
      ]
     },
     "execution_count": 6,
     "metadata": {},
     "output_type": "execute_result"
    }
   ],
   "source": [
    "# Remove all records from the defined column - Display Results\n",
    "autos = autos[autos['offer_type'] != 'Gesuch']\n",
    "autos['offer_type'].unique()"
   ]
  },
  {
   "cell_type": "markdown",
   "metadata": {},
   "source": [
    "**Seperate/Format time and date `ad_created`, `date_crawled` Format time and date `last_seen`**"
   ]
  },
  {
   "cell_type": "code",
   "execution_count": null,
   "metadata": {},
   "outputs": [],
   "source": [
    "# Import datetime lirbrary\n",
    "import datetime as dt\n",
    "\n",
    "# Seperate and format defined column\n",
    "def seperate_date_time(column_choice):\n",
    "    for i in column_choice:\n",
    " \n",
    "        choice_date = i.split()\n",
    "        choice_date = choice_date[0]\n",
    "        choice_date = str(choice_date)\n",
    "        choice_date = dt.datetime.strptime(choice_date, \"%Y-%m-%d\")\n",
    "        column_choice.replace(i, choice_date)\n",
    "        \n",
    "# Call Function\n",
    "seperate_date_time(autos.loc[:,\"ad_created\"])\n",
    "seperate_date_time(autos.loc[:,\"date_crawled\"])\n",
    "\n",
    "#Format defined column by date and time\n",
    "for i in autos.loc[:,\"last_seen\"]:\n",
    "    last_seen = i.split()\n",
    "    \n",
    "    last_seen_date = last_seen[0]\n",
    "    last_seen_hour = last_seen[1]\n",
    "    \n",
    "    last_seen_date = str(last_seen_date)\n",
    "    last_seen_hour = str(last_seen_hour)\n",
    "    \n",
    "    last_seen_date = dt.datetime.strptime(last_seen_date, \"%Y-%m-%d\")\n",
    "    last_seen_hour = dt.datetime.strptime(last_seen_date, \"%H:%M-%s\")\n",
    "    autos.loc[:,\"date_crawled\"].replace(i, ad_crawled_hr)\n",
    "\n",
    "# Display Results\n",
    "#autos.loc[0:2,[\"date_crawled\", \"ad_created\", \"last_seen\"]]"
   ]
  },
  {
   "cell_type": "markdown",
   "metadata": {},
   "source": [
    "Brief Discription about the results from above"
   ]
  },
  {
   "cell_type": "markdown",
   "metadata": {},
   "source": [
    "**Address special colums - Additional Formating `price`, `power_ps`**"
   ]
  },
  {
   "cell_type": "code",
   "execution_count": 9,
   "metadata": {},
   "outputs": [
    {
     "name": "stdout",
     "output_type": "stream",
     "text": [
      "Price - Statistical Report\n",
      "\n",
      "Mininum Value: 0\n",
      "Maximum Value: 2147483647\n",
      "\n",
      "count    3.715130e+05\n",
      "mean     1.729570e+04\n",
      "std      3.588026e+06\n",
      "min      0.000000e+00\n",
      "25%      1.150000e+03\n",
      "50%      2.950000e+03\n",
      "75%      7.200000e+03\n",
      "max      2.147484e+09\n",
      "Name: price, dtype: float64\n",
      "\n",
      "\n",
      "Power(PS) - Statistical Report\n",
      "\n",
      "Mininum Value: 0\n",
      "Maximum Value: 20000\n",
      "\n",
      "count    371513.000000\n",
      "mean        115.552689\n",
      "std         192.142534\n",
      "min           0.000000\n",
      "25%          70.000000\n",
      "50%         105.000000\n",
      "75%         150.000000\n",
      "max       20000.000000\n",
      "Name: power_ps, dtype: float64\n"
     ]
    }
   ],
   "source": [
    "# Display Statistcal Report for each column\n",
    "def min_max(column1, column2 , name1, name2):\n",
    "    min_value_1 = column1.min()\n",
    "    min_value_2 = column2.min()\n",
    "     \n",
    "    max_value_1 = column1.max()\n",
    "    max_value_2 = column2.max()\n",
    "    \n",
    "    print(str(name1) + \" - Statistical Report\\n\\nMininum Value: {0}\\nMaximum Value: {1}\\n\\n\".format(min_value_1, max_value_1) + str(column1.describe()))\n",
    "    print(\"\\n\\n\" + str(name2) + \" - Statistical Report\\n\\nMininum Value: {0}\\nMaximum Value: {1}\\n\\n\".format(min_value_2, max_value_2) + str(column2.describe()))\n",
    "\n",
    "# Display unformatted results\n",
    "min_max(autos[\"price\"], autos[\"power_ps\"], \"Price\", \"Power(PS)\")"
   ]
  },
  {
   "cell_type": "markdown",
   "metadata": {},
   "source": [
    "With a quick obervation we can see that the `price` column in denoted by a scientific notation value as to the `power_ps` column carrying a multitude of decimal places. Below we will format the data appropriately using the `options.display.float_format` function in pandas; converting each value to 2 decimal places."
   ]
  },
  {
   "cell_type": "code",
   "execution_count": 10,
   "metadata": {},
   "outputs": [
    {
     "data": {
      "text/html": [
       "<div>\n",
       "<style scoped>\n",
       "    .dataframe tbody tr th:only-of-type {\n",
       "        vertical-align: middle;\n",
       "    }\n",
       "\n",
       "    .dataframe tbody tr th {\n",
       "        vertical-align: top;\n",
       "    }\n",
       "\n",
       "    .dataframe thead th {\n",
       "        text-align: right;\n",
       "    }\n",
       "</style>\n",
       "<table border=\"1\" class=\"dataframe\">\n",
       "  <thead>\n",
       "    <tr style=\"text-align: right;\">\n",
       "      <th></th>\n",
       "      <th>price</th>\n",
       "      <th>power_ps</th>\n",
       "    </tr>\n",
       "  </thead>\n",
       "  <tbody>\n",
       "    <tr>\n",
       "      <th>count</th>\n",
       "      <td>2.00</td>\n",
       "      <td>2.00</td>\n",
       "    </tr>\n",
       "    <tr>\n",
       "      <th>mean</th>\n",
       "      <td>9,390.00</td>\n",
       "      <td>95.00</td>\n",
       "    </tr>\n",
       "    <tr>\n",
       "      <th>std</th>\n",
       "      <td>12,600.64</td>\n",
       "      <td>134.35</td>\n",
       "    </tr>\n",
       "    <tr>\n",
       "      <th>min</th>\n",
       "      <td>480.00</td>\n",
       "      <td>0.00</td>\n",
       "    </tr>\n",
       "    <tr>\n",
       "      <th>25%</th>\n",
       "      <td>4,935.00</td>\n",
       "      <td>47.50</td>\n",
       "    </tr>\n",
       "    <tr>\n",
       "      <th>50%</th>\n",
       "      <td>9,390.00</td>\n",
       "      <td>95.00</td>\n",
       "    </tr>\n",
       "    <tr>\n",
       "      <th>75%</th>\n",
       "      <td>13,845.00</td>\n",
       "      <td>142.50</td>\n",
       "    </tr>\n",
       "    <tr>\n",
       "      <th>max</th>\n",
       "      <td>18,300.00</td>\n",
       "      <td>190.00</td>\n",
       "    </tr>\n",
       "  </tbody>\n",
       "</table>\n",
       "</div>"
      ],
      "text/plain": [
       "          price  power_ps\n",
       "count      2.00      2.00\n",
       "mean   9,390.00     95.00\n",
       "std   12,600.64    134.35\n",
       "min      480.00      0.00\n",
       "25%    4,935.00     47.50\n",
       "50%    9,390.00     95.00\n",
       "75%   13,845.00    142.50\n",
       "max   18,300.00    190.00"
      ]
     },
     "execution_count": 10,
     "metadata": {},
     "output_type": "execute_result"
    }
   ],
   "source": [
    "# Formatted columns \n",
    "pd.options.display.float_format = '{:,.2f}'.format\n",
    "\n",
    "# Display Results\n",
    "autos.loc[0:1,[\"price\", \"power_ps\"]].describe()"
   ]
  },
  {
   "cell_type": "markdown",
   "metadata": {},
   "source": [
    "*Convert German words to English language `seller`, `offer_type`, `gearbox`, `fuel_type`, `unrepaired_damage`*"
   ]
  },
  {
   "cell_type": "code",
   "execution_count": 32,
   "metadata": {},
   "outputs": [
    {
     "name": "stdout",
     "output_type": "stream",
     "text": [
      "   seller offer_type    gearbox fuel_type unrepaired_damage\n",
      "0  privat    Angebot    manuell    benzin               nan\n",
      "1  privat    Angebot    manuell    diesel                ja\n",
      "2  privat    Angebot  automatik    diesel               nan\n",
      "3  privat    Angebot    manuell    benzin              nein\n",
      "4  privat    Angebot    manuell    diesel              nein\n",
      "5  privat    Angebot    manuell    benzin                ja\n"
     ]
    }
   ],
   "source": [
    "# Replace all German words with their English translation\n",
    "for i in autos.loc[:,\"seller\"]:\n",
    "    if i == \"privat\":\n",
    "        i = i.replace(\"privat\", \"Private\")\n",
    "\n",
    "for i in autos.loc[:,\"offer_type\"]:\n",
    "    if i == \"Angebot\":\n",
    "        i = i.replace(\"Angebot\", \"Offer\")\n",
    "    \n",
    "for i in autos.loc[:,\"gearbox\"]:\n",
    "    if i == \"manuell\" or i == \"automatik\":\n",
    "        i = i.replace(\"manuell\", \"Manual\").replace(\"automatik\", \"Automatic\")\n",
    "    \n",
    "for i in autos.loc[:,\"fuel_type\"]:\n",
    "    if i == \"benzin\" or  i == \"diesel\":\n",
    "        i = i.replace(\"benzin\", \"Gasoline\").replace(\"diesel\", \"Diesel\")\n",
    "    \n",
    "for i in autos.loc[:,\"fuel_type\"]:\n",
    "    if i == \"ja\" or i == \"nan\" or i == \"nein\":\n",
    "        i = i.replace(\"ja\", \"Yes\").replace(\"nan\", \"Nan\").replace(\"nein\", \"No\")\n",
    "    \n",
    "    \n",
    "# Display Results\n",
    "print(autos.loc[0:5,[\"seller\", \"offer_type\", \"gearbox\", \"fuel_type\", \"unrepaired_damage\"]])"
   ]
  }
 ],
 "metadata": {
  "kernelspec": {
   "display_name": "Python 3",
   "language": "python",
   "name": "python3"
  },
  "language_info": {
   "codemirror_mode": {
    "name": "ipython",
    "version": 3
   },
   "file_extension": ".py",
   "mimetype": "text/x-python",
   "name": "python",
   "nbconvert_exporter": "python",
   "pygments_lexer": "ipython3",
   "version": "3.8.3"
  }
 },
 "nbformat": 4,
 "nbformat_minor": 4
}
