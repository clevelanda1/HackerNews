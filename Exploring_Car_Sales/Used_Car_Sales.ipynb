{
 "cells": [
  {
   "cell_type": "markdown",
   "metadata": {},
   "source": [
    "# Data Scrubbing and Observation Report - Provided by Ebay\n",
    "\n",
    "**Data Cleaning and Observation Project**\n",
    "\n",
    "Ebay Kleinanzeigen, a classfields section of the German eBay website has provided data of 50,000 listings. At the beginning of the project, the goal will be to clean this data by all means. This project will be initially presented in german as well as containing errors in the data. ."
   ]
  },
  {
   "cell_type": "markdown",
   "metadata": {},
   "source": [
    "## Brief Information about Dataset"
   ]
  },
  {
   "cell_type": "code",
   "execution_count": null,
   "metadata": {},
   "outputs": [],
   "source": [
    "# Import pandas library\n",
    "import pandas as pd\n",
    "\n",
    "# Open file and import dataset as an dataframe\n",
    "autos = pd.read_csv('autos.csv', encoding = \"Latin-1\")\n",
    "\n",
    "# Display information about the dataset\n",
    "autos.info()"
   ]
  },
  {
   "cell_type": "code",
   "execution_count": null,
   "metadata": {},
   "outputs": [],
   "source": [
    "# Display the first 3 rows\n",
    "print(autos.head(3))"
   ]
  },
  {
   "cell_type": "markdown",
   "metadata": {},
   "source": [
    "From the information presented above, we can conclude that there are two different data types, int64 and objects. There are a few columns that contain null values, those columns being the `model`, `vehicle type`,`gearbox`, `fuelType`and `notRepairedDamage` columns with approximately `20,484`, `37,869`, `20,209`, `33,386` and `72,060` null values respectively. As previously mentioned in the project README there are german words that need to be converted to the English language as well. Not to mention the usage of camelcase type spelling to represent each colomn.\n"
   ]
  },
  {
   "cell_type": "markdown",
   "metadata": {},
   "source": [
    "## Column Replacement - Snakecase"
   ]
  },
  {
   "cell_type": "code",
   "execution_count": null,
   "metadata": {},
   "outputs": [],
   "source": [
    "# Rename the autos dataframe columns\n",
    "autos.columns = ['date_crawled', 'name', 'seller', 'offer_type', 'price', 'abtest', 'vehicle_type', 'registration_year', 'gearbox', 'power_ps', 'model', 'odometer_km', 'registration_month', 'fuel_type', 'brand', 'unrepaired_damage', 'ad_created', 'n_of_pictures', 'postal_code', 'last_seen']\n",
    "\n",
    "# Print snakecase version of autos dataframe columns\n",
    "print(autos.columns)"
   ]
  },
  {
   "cell_type": "code",
   "execution_count": null,
   "metadata": {
    "scrolled": true
   },
   "outputs": [],
   "source": [
    "autos.head(4)"
   ]
  },
  {
   "cell_type": "markdown",
   "metadata": {},
   "source": [
    "The previous columns were presented in a camelcase format. From the dataframe above, those values have been corrected and are now presented in a more preferred snakecase format."
   ]
  },
  {
   "cell_type": "markdown",
   "metadata": {},
   "source": [
    "## Brief Exploration of Dataset\n",
    "\n",
    "Below we will take a further look at the data to see what additional tasks need to be carried out to complete cleaning this dataset."
   ]
  },
  {
   "cell_type": "code",
   "execution_count": null,
   "metadata": {},
   "outputs": [],
   "source": [
    "autos.describe(include = 'all')"
   ]
  },
  {
   "cell_type": "markdown",
   "metadata": {},
   "source": [
    "In the line of code below we will use the python statement to look at each column individually. There will only be one column present because the analysis will have already been completed. For the sake of explaining the steps in this project, I will not remove the obsolete line of code. As for the second line of code, this particular statement will display the datatypes for each column present. "
   ]
  },
  {
   "cell_type": "code",
   "execution_count": null,
   "metadata": {},
   "outputs": [],
   "source": [
    "#autos['postal_code'].value_counts()"
   ]
  },
  {
   "cell_type": "code",
   "execution_count": null,
   "metadata": {},
   "outputs": [],
   "source": [
    "#autos['price'].apply(type)"
   ]
  },
  {
   "cell_type": "markdown",
   "metadata": {},
   "source": [
    "After our analysis I have made a list of some of changes that need to be made within this dataset. These items include:\n",
    "* Convert each column to proper datatype `price, vehicle_type`, `model, kilometer`, `fuel_type`, `unreparied_damage`\n",
    "* Columns that have mostly one value and are candidates to be dropped `seller`, `offer_type`\n",
    "* Seperate/Format time and date `ad_created`, `date_crawled` Format time and date `last_seen`\n",
    "* Address special colums - formatting errors `price`, `power_ps`\n",
    "* Convert German words to English language `seller`, `offer_type`, `gearbox`, `fuel_type`, `unrepaired_damage`, `vehicle_type`, `abtest`\n",
    "* Regulate `regulation_year` min and max values"
   ]
  },
  {
   "cell_type": "markdown",
   "metadata": {},
   "source": [
    "## Data Cleaning\n",
    "\n",
    "**Convert each column to proper datatype `price, vehicle_type`, `model, kilometer`, `fuel_type`, `unreparied_damage`, `gearbox`**"
   ]
  },
  {
   "cell_type": "code",
   "execution_count": null,
   "metadata": {},
   "outputs": [],
   "source": [
    "# Convert column to a string and remove additional characters - Convert to an interger datatype\n",
    "autos.loc[:,'price'] = autos.loc[:,'price'].astype(str).str.replace(\"$\",\"\").str.replace(\",\",\"\")\n",
    "autos.loc[:,'price'] = autos.loc[:,'price'].astype(int)\n",
    "\n",
    "autos.loc[:,'odometer_km'] = autos.loc[:,'odometer_km'].astype(str).str.replace(\"km\",\"\").str.replace(\",\",\"\")\n",
    "autos.loc[:,'odometer_km'] = autos.loc[:,'odometer_km'].astype(int)\n",
    "\n",
    "# Convert datatype to a string\n",
    "autos.loc[:,'vehicle_type'] = autos.loc[:,'vehicle_type'].astype(str)\n",
    "autos.loc[:,'model'] = autos.loc[:,'model'].astype(str)\n",
    "autos.loc[:,'fuel_type'] = autos.loc[:,'fuel_type'].astype(str)\n",
    "autos.loc[:,'unrepaired_damage'] = autos['unrepaired_damage'].astype(str)\n",
    "autos.loc[:,'gearbox'] = autos.loc[:,'gearbox'].astype(str)"
   ]
  },
  {
   "cell_type": "markdown",
   "metadata": {},
   "source": [
    "**Columns that have mostly one value and are candidates to be dropped `seller`, `offer_type`**"
   ]
  },
  {
   "cell_type": "code",
   "execution_count": null,
   "metadata": {},
   "outputs": [],
   "source": [
    "# Determine unique values in each column\n",
    "s = autos['seller'].unique()\n",
    "ot = autos['offer_type'].unique()\n",
    "\n",
    "# Determine distribution for each unique value in each column\n",
    "s_dict = {}\n",
    "for i in autos['seller']:\n",
    "    if i not in s_dict:\n",
    "        s_dict[i] = 1\n",
    "    else:\n",
    "        s_dict[i] += 1\n",
    "\n",
    "ot_dict = {}\n",
    "for i in autos['offer_type']:\n",
    "    if i not in ot_dict:\n",
    "        ot_dict[i] = 1\n",
    "    else:\n",
    "        ot_dict[i] += 1\n",
    "\n",
    "# Display Results\n",
    "print(\"'Seller': {0} Count: \".format(s) + str(s_dict.values())) \n",
    "print(\"'Offer Type': {0} Count: \".format(ot) + str(ot_dict.values()))"
   ]
  },
  {
   "cell_type": "markdown",
   "metadata": {},
   "source": [
    "Given the numberic count for both \"Gewerblich\" and \"Gesuch\" under the 'Seller' and 'Offer Type' columns are far below 1%, these records will be removed from the dataset."
   ]
  },
  {
   "cell_type": "code",
   "execution_count": null,
   "metadata": {},
   "outputs": [],
   "source": [
    "# Remove all records from the defined column - Display Res ults\n",
    "autos = autos[autos['seller'] != 'gewerblich']\n",
    "autos['seller'].unique()"
   ]
  },
  {
   "cell_type": "code",
   "execution_count": null,
   "metadata": {},
   "outputs": [],
   "source": [
    "# Remove all records from the defined column - Display Results\n",
    "autos = autos[autos['offer_type'] != 'Gesuch']\n",
    "autos['offer_type'].unique()"
   ]
  },
  {
   "cell_type": "markdown",
   "metadata": {},
   "source": [
    "**Seperate/Format time and date `ad_created`, `date_crawled` Format time and date `last_seen`**"
   ]
  },
  {
   "cell_type": "code",
   "execution_count": null,
   "metadata": {},
   "outputs": [],
   "source": [
    "# Import datetime lirbrary\n",
    "import datetime as dt\n",
    "\n",
    "# Format defined column by date and times\n",
    "autos['date_crawled'] = autos['date_crawled'].str[:10]\n",
    "autos['ad_created'] = autos['ad_created'].str[:10]\n",
    "last_seen_copy = autos['last_seen'].copy()\n",
    "autos['last_seen'] = autos['last_seen'].str[:10]\n",
    "autos['last_seen_hour'] = last_seen_copy.str[12:]\n",
    "\n",
    "# Display Results\n",
    "autos[['date_crawled', 'ad_created', 'last_seen', 'last_seen_hour']]"
   ]
  },
  {
   "cell_type": "markdown",
   "metadata": {},
   "source": [
    "Brief Discription about the results from above"
   ]
  },
  {
   "cell_type": "markdown",
   "metadata": {},
   "source": [
    "**Address special colums - Additional Formating `price`, `power_ps`**"
   ]
  },
  {
   "cell_type": "code",
   "execution_count": null,
   "metadata": {},
   "outputs": [],
   "source": [
    "# Display Statistcal Report for each column\n",
    "def min_max(column1, column2 , name1, name2):\n",
    "    min_value_1 = column1.min()\n",
    "    min_value_2 = column2.min()\n",
    "     \n",
    "    max_value_1 = column1.max()\n",
    "    max_value_2 = column2.max()\n",
    "    \n",
    "    print(str(name1) + \" - Statistical Report\\n\\nMininum Value: {0}\\nMaximum Value: {1}\\n\\n\".format(min_value_1, max_value_1) + str(column1.describe()))\n",
    "    print(\"\\n\\n\" + str(name2) + \" - Statistical Report\\n\\nMininum Value: {0}\\nMaximum Value: {1}\\n\\n\".format(min_value_2, max_value_2) + str(column2.describe()))\n",
    "\n",
    "# Display unformatted results\n",
    "min_max(autos[\"price\"], autos[\"power_ps\"], \"Price\", \"Power(PS)\")"
   ]
  },
  {
   "cell_type": "markdown",
   "metadata": {},
   "source": [
    "With a quick obervation we can see that the `price` column in denoted by a scientific notation value as to the `power_ps` column carrying a multitude of decimal places. Below we will format the data appropriately using the `options.display.float_format` function in pandas; converting each value to 2 decimal places."
   ]
  },
  {
   "cell_type": "code",
   "execution_count": null,
   "metadata": {},
   "outputs": [],
   "source": [
    "# Formatted columns \n",
    "pd.options.display.float_format = '{:,.2f}'.format\n",
    "\n",
    "# Display Results\n",
    "autos.loc[0:1,[\"price\", \"power_ps\"]].describe()"
   ]
  },
  {
   "cell_type": "markdown",
   "metadata": {},
   "source": [
    "*Convert German words to English language `seller`, `offer_type`, `gearbox`, `fuel_type`, `unrepaired_damage`, `vehicle_type`, `abtest`*"
   ]
  },
  {
   "cell_type": "code",
   "execution_count": null,
   "metadata": {},
   "outputs": [],
   "source": [
    "# Replace all German words with their English translation\n",
    "autos[\"seller\"] = autos[\"seller\"].replace(\"privat\", \"Private\")\n",
    "autos[\"offer_type\"] = autos[\"offer_type\"].replace(\"Angebot\", \"Offer\")\n",
    "autos[\"gearbox\"] = autos[\"gearbox\"].replace(\"manuell\", \"Manual\").replace(\"automatik\", \"Automatic\")\n",
    "autos[\"fuel_type\"] = autos[\"fuel_type\"].replace(\"benzin\", \"Gasoline\").replace(\"diesel\", \"Diesel\")\n",
    "autos[\"unrepaired_damage\"] = autos[\"unrepaired_damage\"].replace(\"ja\", \"Yes\").replace(\"nan\", \"Nan\").replace(\"nein\", \"No\")\n",
    "autos[\"vehicle_type\"] = autos[\"vehicle_type\"].replace(\"kleinwagen\", \"Mini\").replace(\"coupe\", \"Coupe\").replace(\"suv\", \"SUV\").replace(\"limousine\", \"Limousine\").replace(\"cabrio\", \"Convertible\").replace(\"bus\", \"Bus\").replace(\"kombi\", \"Combination\").replace(\"andere\", \"Other\")\n",
    "autos[\"abtest\"] = autos[\"abtest\"].replace(\"test\", \"Test\").replace(\"control\", \"Control\")\n",
    "\n",
    "# Display Results\n",
    "autos.loc[30:60]"
   ]
  },
  {
   "cell_type": "markdown",
   "metadata": {},
   "source": [
    "Now that the majority of the words presented in this dataframe have been translated in English, we have a clear understanding of each record and its data points. With that being said, columns `model` and `brand` were left alone for there are at least 50 multiple unique items for each and for the most part, those translations will remain the same. "
   ]
  },
  {
   "cell_type": "markdown",
   "metadata": {},
   "source": [
    "**Regulate `regulation_year` min and max values**"
   ]
  },
  {
   "cell_type": "code",
   "execution_count": null,
   "metadata": {},
   "outputs": [],
   "source": [
    "#utos[\"registration_year\"].min()\n",
    "#utos[\"registration_year\"].max()\n",
    "#utos[\"registration_year\"].unique()\n",
    "\n",
    "\n",
    "greater_2016 = autos.loc[autos[\"registration_year\"] > 2016, \"registration_year\"]\n",
    "#ess_1990 = autos.loc[autos[\"registration_year\"] < 1990, \"registration_year\"] == True\n",
    "autos.loc[:30,\"registration_year\"]\n",
    "\n",
    "\n",
    "#utos[autos[\"registration_year\"] > 9999] == True"
   ]
  }
 ],
 "metadata": {
  "kernelspec": {
   "display_name": "Python 3",
   "language": "python",
   "name": "python3"
  },
  "language_info": {
   "codemirror_mode": {
    "name": "ipython",
    "version": 3
   },
   "file_extension": ".py",
   "mimetype": "text/x-python",
   "name": "python",
   "nbconvert_exporter": "python",
   "pygments_lexer": "ipython3",
   "version": "3.8.3"
  }
 },
 "nbformat": 4,
 "nbformat_minor": 4
}
