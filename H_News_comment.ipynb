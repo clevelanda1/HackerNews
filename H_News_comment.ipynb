{
 "cells": [
  {
   "cell_type": "markdown",
   "metadata": {},
   "source": [
    "#  Hacker News - How to Wield a Working Model\n",
    "\n",
    "\n",
    "\n",
    "\n",
    "**Determine a system that places an individual post agmonst the highest ranks**\n",
    "\n",
    "The [Hacker News](https://news.ycombinator.com/ask) community group provides an outlet for indivduals from different backgrounds in tech to communicate and share ideas. The premise of this model is supported by a voting system of 'upvotes' and 'downvotes'. Where each link is ranked on the main page based off its total votes.\n",
    "\n",
    "In this project, I will discuss two primary facets that may affect the chance each individual link may have of being ranked the highest. I am specifically sourcing data from any/all records that include 'Ask HN' or 'Show HN' only. The rest will be removed.\n"
   ]
  },
  {
   "cell_type": "markdown",
   "metadata": {},
   "source": [
    "*Import Libraries/Dataset*"
   ]
  },
  {
   "cell_type": "code",
   "execution_count": 40,
   "metadata": {},
   "outputs": [],
   "source": [
    "from csv import reader\n",
    "import datetime as dt\n",
    "\n",
    "#Open the file and import the dataset as a list of list.\n",
    "open_file = open(r\"C:\\Users\\Dell User\\Documents\\Hacker_News\\HackerNews_posts_year_to_Sep_26_2016.csv\", encoding='utf-8')\n",
    "read_file = reader(open_file)\n",
    "hn_hd = list(read_file)\n",
    "\n",
    "#Extract the Headers from the list and create two separate list.\n",
    "hd = hn_hd[:1]\n",
    "hn = hn_hd[1:]\n"
   ]
  },
  {
   "cell_type": "markdown",
   "metadata": {},
   "source": [
    "*Filter Data*"
   ]
  },
  {
   "cell_type": "code",
   "execution_count": 49,
   "metadata": {},
   "outputs": [
    {
     "name": "stdout",
     "output_type": "stream",
     "text": [
      "0\n"
     ]
    }
   ],
   "source": [
    "#Create an empty list to separate three different types of post.\n",
    "ask_post = []\n",
    "show_post = []\n",
    "other_post = []\n",
    "\n",
    "#Loop through the original dataset - convert each title to a lowercase string and compare.\n",
    "for row in hn:\n",
    "    title = row[1]\n",
    "    title.lower()\n",
    "    \n",
    "    if title.startswith('ask hn'):\n",
    "        ask_post.append(row)\n",
    "    elif title.startswith('show hn'):\n",
    "        show_post.append(row)\n",
    "    else:\n",
    "        other_post.append(row)\n",
    "        \n",
    "print(len(show_post))\n",
    "        "
   ]
  }
 ],
 "metadata": {
  "kernelspec": {
   "display_name": "Python 3",
   "language": "python",
   "name": "python3"
  },
  "language_info": {
   "codemirror_mode": {
    "name": "ipython",
    "version": 3
   },
   "file_extension": ".py",
   "mimetype": "text/x-python",
   "name": "python",
   "nbconvert_exporter": "python",
   "pygments_lexer": "ipython3",
   "version": "3.8.3"
  }
 },
 "nbformat": 4,
 "nbformat_minor": 4
}
