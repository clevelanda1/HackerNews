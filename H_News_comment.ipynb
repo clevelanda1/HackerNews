{
 "cells": [
  {
   "cell_type": "markdown",
   "metadata": {},
   "source": [
    "#  How to Wield the Working Model to Increase your Rankings.\n",
    "\n",
    "\n",
    "\n",
    "<img src = \"hn-logo.png\" style=\"width:400px;height:300px\" vspace = \"40\"/>\n",
    "\n",
    "\n",
    "**Determine a system that places an individual post agmonst the highest ranks**\n",
    "\n",
    "The [Hacker News](https://news.ycombinator.com/ask) community group provides an outlet for indivduals from different backgrounds in tech to communicate and share ideas. The premise of this model is supported by a voting system of 'upvotes' and 'downvotes'. Where each link is ranked on the main page based off its total votes.\n",
    "\n",
    "In this project, I will discuss two primary facets that may affect the chance each individual link may have of being ranked the highest. I am specifically sourcing data from any/all records that include 'Ask HN' or 'Show HN' only. The rest will be removed.\n"
   ]
  },
  {
   "cell_type": "markdown",
   "metadata": {},
   "source": [
    "**Import Hacker News Dataset**\n",
    "\n",
    "Import the Hacker News dataset, this data is publicly available in the project folders. Approximately 20,000 records have been previously cleaned all of which require `num_comments` as a criteria. This field description can also be found [here](README.md) in the project folder along with the other columns. We will begin by reading the data into our Notbook and seperating the list accordingly."
   ]
  },
  {
   "cell_type": "code",
   "execution_count": 354,
   "metadata": {},
   "outputs": [
    {
     "name": "stdout",
     "output_type": "stream",
     "text": [
      "[['id', 'title', 'url', 'num_points', 'num_comments', 'author', 'created_at']]\n",
      "\n",
      "\n",
      "[['12579008', 'You have two days to comment if you want stem cells to be classified as your own', 'http://www.regulations.gov/document?D=FDA-2015-D-3719-0018', '1', '0', 'altstar', '9/26/2016 3:26'], ['12579005', 'SQLAR  the SQLite Archiver', 'https://www.sqlite.org/sqlar/doc/trunk/README.md', '1', '0', 'blacksqr', '9/26/2016 3:24'], ['12578997', 'What if we just printed a flatscreen television on the side of our boxes?', 'https://medium.com/vanmoof/our-secrets-out-f21c1f03fdc8#.ietxmez43', '1', '0', 'pavel_lishin', '9/26/2016 3:19']]\n"
     ]
    }
   ],
   "source": [
    "#Import reader from csv\n",
    "from csv import reader\n",
    "\n",
    "#Open the file and import the dataset as a list of list\n",
    "open_file = open(r\"C:\\Users\\Dell User\\Documents\\Hacker_News\\HackerNews_posts_year_to_Sep_26_2016.csv\", encoding='utf-8')\n",
    "read_file = reader(open_file)\n",
    "hn_hd = list(read_file)\n",
    "\n",
    "#Extract the Headers from the list and create two separate list\n",
    "hd = hn_hd[:1]\n",
    "hn = hn_hd[1:]\n",
    "\n",
    "#Results\n",
    "print(hd)\n",
    "print(\"\\n\")\n",
    "print(hn[:3])"
   ]
  },
  {
   "cell_type": "markdown",
   "metadata": {},
   "source": [
    "**Filter Title Data**\n",
    "\n",
    "Once the data has been split into column headers and its' data it is now time to seperate the records corresponding to the type of post. As previously mentioned above, the only records which pertain to this project will be the ones that start with 'Ask HN' or 'Show HN' in the `title` column. Apart from the filtered data lets calculate the average number of comments for each type post."
   ]
  },
  {
   "cell_type": "code",
   "execution_count": 666,
   "metadata": {},
   "outputs": [
    {
     "name": "stdout",
     "output_type": "stream",
     "text": [
      "Ask HN \n",
      "\n",
      "[['12578908', 'Ask HN: What TLD do you use for local development?', '', '4', '7', 'Sevrene', '9/26/2016 2:53'], ['12578522', 'Ask HN: How do you pass on your work when you die?', '', '6', '3', 'PascLeRasc', '9/26/2016 1:17'], ['12577908', 'Ask HN: How a DNS problem can be limited to a geographic region?', '', '1', '0', 'kuon', '9/25/2016 22:57']]\n",
      "\n",
      "Average: 10.39\n",
      "\n",
      "Show HN \n",
      "\n",
      "[['12578335', 'Show HN: Finding puns computationally', 'http://puns.samueltaylor.org/', '2', '0', 'saamm', '9/26/2016 0:36'], ['12578182', 'Show HN: A simple library for complicated animations', 'https://christinecha.github.io/choreographer-js/', '1', '0', 'christinecha', '9/26/2016 0:01'], ['12578098', 'Show HN: WebGL visualization of DNA sequences', 'http://grondilu.github.io/dna.html', '1', '0', 'grondilu', '9/25/2016 23:44']]\n",
      "\n",
      "Show HN: 4.89\n"
     ]
    }
   ],
   "source": [
    "#List temporary variables\n",
    "total_ask_comments = 0\n",
    "total_show_comments = 0\n",
    "total_other_comments = 0\n",
    "\n",
    "#Create an empty list to separate three different types of post\n",
    "ask_post = []\n",
    "show_post = []\n",
    "other_post = []\n",
    "\n",
    "#Loop through the original dataset - convert each title to a lowercase string and compare - calculate the average number of comments for each of the three types of post\n",
    "for row in hn:\n",
    "    title = row[1].lower()\n",
    "    num_comment = int(row[4])\n",
    "    if title.startswith('ask hn'):\n",
    "        ask_post.append(row)\n",
    "        total_ask_comments += num_comment\n",
    "    elif title.startswith('show hn'):\n",
    "        show_post.append(row)\n",
    "        total_show_comments += num_comment\n",
    "    else:\n",
    "        other_post.append(row)\n",
    "        total_other_comments += num_comment\n",
    "\n",
    "#Calculate the average number of comments for each type of posting ('Ask HN' or 'Show HN')\n",
    "average_num_ask_comments = total_ask_comments/len(ask_post)\n",
    "average_num_show_comments = total_show_comments/len(show_post)\n",
    "\n",
    "#Results\n",
    "print(\"Ask HN \\n\\n\" + str(ask_post[:3]))\n",
    "print(\"\\nAverage: \" + str(round(average_num_ask_comments, 2)))\n",
    "\n",
    "print(\"\\nShow HN \\n\\n\" + str(show_post[:3]))\n",
    "print(\"\\nShow HN: \" + str(round(average_num_show_comments, 2)))\n",
    "\n"
   ]
  },
  {
   "cell_type": "markdown",
   "metadata": {},
   "source": [
    "**Explore Filterd Data and the Number of Comments**\n",
    "\n",
    "Given the average for post that begin with 'Ask HN' being approximately 11 and post that begin with 'Show HN' being approximately 5. Lets take a closer look into the distribution of all the posts and comments being considered. Consequently, in the next code block, well:\n",
    "* Create an empty list for each type of posting and extract the value from the `num_comments`column.\n",
    "* Create an empty dictionary for each type of posting to determine how frequent a post with certain number of comments appears.\n",
    "* Create a function to sort that table in a ascending manner.\n",
    "* Display the number of total, 'Ask Hn', 'Show HN', and other posts."
   ]
  },
  {
   "cell_type": "code",
   "execution_count": 668,
   "metadata": {},
   "outputs": [
    {
     "name": "stdout",
     "output_type": "stream",
     "text": [
      "Number of post that Ask Hacker News: 9139\n",
      "Number of post that Show Hacker News: 10158\n",
      "Number of post that are neither nor: 273822\n",
      "Number of total post in dataset: 293119\n"
     ]
    }
   ],
   "source": [
    "#Create an empty list to store the number of comments for each 'Ask HN' post - Loop through original dataset and extract each value.\n",
    "num_ask_comment = []\n",
    "for i in ask_post:\n",
    "    num_ask_comment.append(i[3])\n",
    "\n",
    "#Create an empty list to store the number of comments for each 'Show HN' post - Loop through original dataset and extract each valu.\n",
    "num_show_comment = []\n",
    "for i in show_post:\n",
    "    num_show_comment.append(i[3])\n",
    "\n",
    "#Create an empty dictionary to store the frequency of each 'Ask HN'comment\n",
    "ask_comment_dict = {}\n",
    "for i in num_ask_comment:\n",
    "    i = int(i)\n",
    "    if i not in ask_comment_dict:\n",
    "        ask_comment_dict[i] = 1\n",
    "    else:\n",
    "        ask_comment_dict[i] += 1\n",
    "        \n",
    "        \n",
    "#Create an empty dictionary to store the frequency of each 'Show HN'comment     \n",
    "show_comment_dict = {}\n",
    "for i in num_show_comment:\n",
    "    i = int(i)\n",
    "    if i not in show_comment_dict:\n",
    "        show_comment_dict[i] = 1\n",
    "    else:\n",
    "        show_comment_dict[i] += 1\n",
    "        \n",
    "        \n",
    "#Function will print ascending dictionary if value is True or descending dictionary dictionary if value is False\n",
    "def dict_order(value, dictionary):\n",
    "    if value == True:\n",
    "        asc_sort = list(dictionary.items())\n",
    "        asc_sort.sort()\n",
    "        asc_order = dict(asc_sort)\n",
    "        dictionary = asc_order\n",
    "    else:\n",
    "        desc_sort = list(dictionary.items())\n",
    "        desc_sort.sort(reverse = True)\n",
    "        desc_order = dict(desc_sort)\n",
    "        dictionary = desc_order\n",
    "    return dictionary\n",
    " \n",
    "#Results\n",
    "total = len(ask_post) + len(show_post) + len(other_post) \n",
    "print(\"Number of post that Ask Hacker News: \" + str(len(ask_post)))\n",
    "print(\"Number of post that Show Hacker News: \" + str(len(show_post)))\n",
    "print(\"Number of post that are neither nor: \" + str(len(other_post)))\n",
    "print(\"Number of total post in dataset: \" + str(total))\n"
   ]
  },
  {
   "cell_type": "markdown",
   "metadata": {},
   "source": [
    "Lets use the functions and dictionaries above to explore the data a bit further. Immediately its apparent from our last set of results that there are more post that begin with 'Show HN'. One might conclude that this data alone gives proper representation to the fact that 'Show HN' postings often do better than 'Ask HN' which I believe is inherently false. Instead, its only safe to say that more people prefer to share their personal work as opposed to asking questions or 'text submissions.'"
   ]
  },
  {
   "cell_type": "markdown",
   "metadata": {},
   "source": [
    "**Frequency Tables for each Type of Post**\n",
    "\n",
    "Lets take the distribution for each and visually open up the data and explore it even further. A requirement from Hacker News states that a total number of at least 100 comments is necessary for one to reach the top of the website's board. So, lets keep that in mind in our discovery.  Below we will create a dictionary of ranges to determine what ranges of post produce a certain number of comments. "
   ]
  },
  {
   "cell_type": "code",
   "execution_count": 656,
   "metadata": {},
   "outputs": [
    {
     "name": "stdout",
     "output_type": "stream",
     "text": [
      "Ask HN\n"
     ]
    },
    {
     "data": {
      "text/html": [
       "<div>\n",
       "<style scoped>\n",
       "    .dataframe tbody tr th:only-of-type {\n",
       "        vertical-align: middle;\n",
       "    }\n",
       "\n",
       "    .dataframe tbody tr th {\n",
       "        vertical-align: top;\n",
       "    }\n",
       "\n",
       "    .dataframe thead th {\n",
       "        text-align: right;\n",
       "    }\n",
       "</style>\n",
       "<table border=\"1\" class=\"dataframe\">\n",
       "  <thead>\n",
       "    <tr style=\"text-align: right;\">\n",
       "      <th></th>\n",
       "      <th>Number of Comments</th>\n",
       "      <th>Number of Posts</th>\n",
       "    </tr>\n",
       "  </thead>\n",
       "  <tbody>\n",
       "    <tr>\n",
       "      <th>0</th>\n",
       "      <td>1</td>\n",
       "      <td>2515</td>\n",
       "    </tr>\n",
       "    <tr>\n",
       "      <th>1</th>\n",
       "      <td>2</td>\n",
       "      <td>1953</td>\n",
       "    </tr>\n",
       "    <tr>\n",
       "      <th>2</th>\n",
       "      <td>3</td>\n",
       "      <td>1095</td>\n",
       "    </tr>\n",
       "    <tr>\n",
       "      <th>3</th>\n",
       "      <td>4</td>\n",
       "      <td>642</td>\n",
       "    </tr>\n",
       "    <tr>\n",
       "      <th>4</th>\n",
       "      <td>5</td>\n",
       "      <td>428</td>\n",
       "    </tr>\n",
       "    <tr>\n",
       "      <th>...</th>\n",
       "      <td>...</td>\n",
       "      <td>...</td>\n",
       "    </tr>\n",
       "    <tr>\n",
       "      <th>227</th>\n",
       "      <td>648</td>\n",
       "      <td>1</td>\n",
       "    </tr>\n",
       "    <tr>\n",
       "      <th>228</th>\n",
       "      <td>691</td>\n",
       "      <td>1</td>\n",
       "    </tr>\n",
       "    <tr>\n",
       "      <th>229</th>\n",
       "      <td>822</td>\n",
       "      <td>1</td>\n",
       "    </tr>\n",
       "    <tr>\n",
       "      <th>230</th>\n",
       "      <td>867</td>\n",
       "      <td>1</td>\n",
       "    </tr>\n",
       "    <tr>\n",
       "      <th>231</th>\n",
       "      <td>1213</td>\n",
       "      <td>1</td>\n",
       "    </tr>\n",
       "  </tbody>\n",
       "</table>\n",
       "<p>232 rows × 2 columns</p>\n",
       "</div>"
      ],
      "text/plain": [
       "     Number of Comments  Number of Posts\n",
       "0                     1             2515\n",
       "1                     2             1953\n",
       "2                     3             1095\n",
       "3                     4              642\n",
       "4                     5              428\n",
       "..                  ...              ...\n",
       "227                 648                1\n",
       "228                 691                1\n",
       "229                 822                1\n",
       "230                 867                1\n",
       "231                1213                1\n",
       "\n",
       "[232 rows x 2 columns]"
      ]
     },
     "execution_count": 656,
     "metadata": {},
     "output_type": "execute_result"
    }
   ],
   "source": [
    "#Import pandas dataframe package\n",
    "import pandas as pd\n",
    "\n",
    "#Sort dictionary in ascending order\n",
    "sort_swap_ask_comment_dict = dict_order(True, ask_comment_dict)\n",
    "sort_swap_show_comment_dict = dict_order(True, show_comment_dict)\n",
    "\n",
    "#For each type of Post, convert to a python list\n",
    "num_comments_list_ask = list(sort_swap_ask_comment_dict.keys())\n",
    "num_post_list_ask = list(sort_swap_ask_comment_dict.values())\n",
    "\n",
    "num_comments_list_show = list(sort_swap_show_comment_dict.keys())\n",
    "num_post_list_show = list(sort_swap_show_comment_dict.values())\n",
    "\n",
    "\n",
    "#Convert the frequency table into pandas and display the results as a dataframe\n",
    "print(\"Ask HN\")\n",
    "pd.DataFrame(data = {'Number of Comments': num_comments_list_ask, 'Number of Posts': num_post_list_ask})"
   ]
  },
  {
   "cell_type": "code",
   "execution_count": 520,
   "metadata": {},
   "outputs": [
    {
     "name": "stdout",
     "output_type": "stream",
     "text": [
      "Show HN\n"
     ]
    },
    {
     "data": {
      "text/html": [
       "<div>\n",
       "<style scoped>\n",
       "    .dataframe tbody tr th:only-of-type {\n",
       "        vertical-align: middle;\n",
       "    }\n",
       "\n",
       "    .dataframe tbody tr th {\n",
       "        vertical-align: top;\n",
       "    }\n",
       "\n",
       "    .dataframe thead th {\n",
       "        text-align: right;\n",
       "    }\n",
       "</style>\n",
       "<table border=\"1\" class=\"dataframe\">\n",
       "  <thead>\n",
       "    <tr style=\"text-align: right;\">\n",
       "      <th></th>\n",
       "      <th>Number of Comments</th>\n",
       "      <th>Number of Posts</th>\n",
       "    </tr>\n",
       "  </thead>\n",
       "  <tbody>\n",
       "    <tr>\n",
       "      <th>0</th>\n",
       "      <td>1</td>\n",
       "      <td>1895</td>\n",
       "    </tr>\n",
       "    <tr>\n",
       "      <th>1</th>\n",
       "      <td>2</td>\n",
       "      <td>2030</td>\n",
       "    </tr>\n",
       "    <tr>\n",
       "      <th>2</th>\n",
       "      <td>3</td>\n",
       "      <td>1393</td>\n",
       "    </tr>\n",
       "    <tr>\n",
       "      <th>3</th>\n",
       "      <td>4</td>\n",
       "      <td>923</td>\n",
       "    </tr>\n",
       "    <tr>\n",
       "      <th>4</th>\n",
       "      <td>5</td>\n",
       "      <td>570</td>\n",
       "    </tr>\n",
       "    <tr>\n",
       "      <th>...</th>\n",
       "      <td>...</td>\n",
       "      <td>...</td>\n",
       "    </tr>\n",
       "    <tr>\n",
       "      <th>268</th>\n",
       "      <td>893</td>\n",
       "      <td>1</td>\n",
       "    </tr>\n",
       "    <tr>\n",
       "      <th>269</th>\n",
       "      <td>1004</td>\n",
       "      <td>1</td>\n",
       "    </tr>\n",
       "    <tr>\n",
       "      <th>270</th>\n",
       "      <td>1093</td>\n",
       "      <td>1</td>\n",
       "    </tr>\n",
       "    <tr>\n",
       "      <th>271</th>\n",
       "      <td>1172</td>\n",
       "      <td>1</td>\n",
       "    </tr>\n",
       "    <tr>\n",
       "      <th>272</th>\n",
       "      <td>1624</td>\n",
       "      <td>1</td>\n",
       "    </tr>\n",
       "  </tbody>\n",
       "</table>\n",
       "<p>273 rows × 2 columns</p>\n",
       "</div>"
      ],
      "text/plain": [
       "     Number of Comments  Number of Posts\n",
       "0                     1             1895\n",
       "1                     2             2030\n",
       "2                     3             1393\n",
       "3                     4              923\n",
       "4                     5              570\n",
       "..                  ...              ...\n",
       "268                 893                1\n",
       "269                1004                1\n",
       "270                1093                1\n",
       "271                1172                1\n",
       "272                1624                1\n",
       "\n",
       "[273 rows x 2 columns]"
      ]
     },
     "execution_count": 520,
     "metadata": {},
     "output_type": "execute_result"
    }
   ],
   "source": [
    "print(\"Show HN\")\n",
    "pd.DataFrame(data = {'Number of Comments': num_comments_list_show, 'Number of Posts': num_post_list_show})"
   ]
  },
  {
   "cell_type": "markdown",
   "metadata": {},
   "source": [
    "**Define the Percentages**\n",
    "\n",
    "Previously we mentioned that 100 comments was the bar set in order to make it to the top page so lets break down each table in terms of percentages and display the results. What percentage of posts from each of the three types (we will include 'Other' as well) received at least 100 comments?"
   ]
  },
  {
   "cell_type": "code",
   "execution_count": 521,
   "metadata": {},
   "outputs": [
    {
     "data": {
      "text/plain": [
       "<function matplotlib.pyplot.show(*args, **kw)>"
      ]
     },
     "execution_count": 521,
     "metadata": {},
     "output_type": "execute_result"
    },
    {
     "data": {
      "image/png": "[encoded data removed]",
      "text/plain": [
       "<Figure size 360x360 with 1 Axes>"
      ]
     },
     "metadata": {},
     "output_type": "display_data"
    }
   ],
   "source": [
    "#Display the percentage of 'Ask HN', 'Show HN' and 'Other' posts\n",
    "ask_per = len(ask_post)/total * 100\n",
    "show_per = len(show_post)/total * 100\n",
    "other_per = len(other_post)/total * 100\n",
    "\n",
    "#Graph the percentage of each of the three type of posts\n",
    "import matplotlib.pyplot as plt\n",
    "plt.figure(figsize=(5,5))\n",
    "plt.pie([ask_per, show_per, other_per], labels = ['Ask HN', 'Show HN', 'Other'], colors = ['r', 'b', 'g'], autopct='%.2f%%', pctdistance = 1.3, shadow=True, labeldistance = 1.6)\n",
    "plt.show"
   ]
  },
  {
   "cell_type": "markdown",
   "metadata": {},
   "source": [
    "From the graph above lets remove \"Other\" post from the equation until we are able to explore that data seperately."
   ]
  },
  {
   "cell_type": "code",
   "execution_count": 522,
   "metadata": {},
   "outputs": [
    {
     "data": {
      "text/plain": [
       "<function matplotlib.pyplot.show(*args, **kw)>"
      ]
     },
     "execution_count": 522,
     "metadata": {},
     "output_type": "execute_result"
    },
    {
     "data": {
      "image/png": "[encoded data removed]",
      "text/plain": [
       "<Figure size 360x360 with 1 Axes>"
      ]
     },
     "metadata": {},
     "output_type": "display_data"
    }
   ],
   "source": [
    "#Display the percentage of 'Ask HN' and 'Show HN' posts\n",
    "new_total = len(ask_post) + len(show_post)\n",
    "ask_per_2 = len(ask_post)/new_total * 100\n",
    "show_per_2 = len(show_post)/new_total * 100\n",
    "\n",
    "#Graph the percentage of each of the two type of posts\n",
    "plt.figure(figsize=(5,5))\n",
    "plt.pie([ask_per, show_per], labels = ['Ask HN', 'Show HN'], colors = ['y', 'b'], autopct='%.2f%%', pctdistance = 1.1, shadow=True, labeldistance = 1.3)\n",
    "plt.show"
   ]
  },
  {
   "cell_type": "markdown",
   "metadata": {},
   "source": [
    "The difference between the two post are relatively the same. Lets continue looking at the different percentages to determine if there is a distinction between the two posts that seperate the values further and further apart. Remember, for a post to make the front page, a post needs at least 100 comments. So lets find the percentage of comments that have at least 100 comments available.  "
   ]
  },
  {
   "cell_type": "code",
   "execution_count": 523,
   "metadata": {},
   "outputs": [
    {
     "name": "stdout",
     "output_type": "stream",
     "text": [
      "Ask HN: 2.08%\n",
      "Show HN: 3.08%\n"
     ]
    }
   ],
   "source": [
    "#Count the percentage of 'Ask HN'and 'Show HN' posts available with more than 100 comments\n",
    "count_ask = 0\n",
    "dict_keys = ask_comment_dict.keys()\n",
    "for item in dict_keys:\n",
    "    if item >= 100:\n",
    "        count_ask += ask_comment_dict[item]\n",
    "\n",
    "count_show = 0\n",
    "dict_keys = show_comment_dict.keys()\n",
    "for item in dict_keys:\n",
    "    if item >= 100:\n",
    "        count_show += show_comment_dict[item]\n",
    "\n",
    "#Count the total number of 'Ask HN' and 'Show HN' post to determine percentage of posts greater than 100 comments\n",
    "total_ask_post = 0\n",
    "for i in ask_comment_dict.values():\n",
    "    total_ask_post += i\n",
    "\n",
    "total_show_post = 0\n",
    "for i in show_comment_dict.values():\n",
    "    total_show_post += i\n",
    "\n",
    "#Calculate the percentages of both types of post with at least 100 commments\n",
    "per_greater_100_ask = count_ask/total_ask_post \n",
    "print(\"Ask HN: \" + \"{:.2%}\".format(per_greater_100_ask))\n",
    " \n",
    "per_greater_100_show = count_show/total_show_post \n",
    "print(\"Show HN: \" + \"{:.2%}\".format(per_greater_100_show))\n"
   ]
  },
  {
   "cell_type": "markdown",
   "metadata": {},
   "source": [
    "**Explore Time Related Data**\n",
    "\n",
    "Given the low percentages, one might conclude that the type of posts alone that make it to the top of the page are not a considerable factor in ranking very high. I believe with an average of around 12 comments per posts the odds are not very high. Lets consider another factor in the dataset, lets look at the `created_at` column. We will begin by extracting the time that  each post was created and at and seperating the data. \n",
    "\n",
    "In this portion of the project, I will look for patterns in the data that will allow me to form a conclusion around the best and worst times to post on the webpage. Lets begin by importing the datetime library to preform our analysis. Following the first step I will will calculate the amount of post created in each hour of the day, along with the number of comments. To finish, I want to find the average number of comments received in every hour."
   ]
  },
  {
   "cell_type": "code",
   "execution_count": 648,
   "metadata": {},
   "outputs": [
    {
     "name": "stdout",
     "output_type": "stream",
     "text": [
      "['12578908', 'Ask HN: What TLD do you use for local development?', '', '4', '7', 'Sevrene', '9/26/2016 2:53']\n"
     ]
    }
   ],
   "source": [
    "#Import datatime library\n",
    "import datetime as dt\n",
    "\n",
    "print(ask_post[0])\n",
    "#Create an empty list to store the number of comments and datetime\n",
    "result_list_ask = []\n",
    "result_list_show = []\n",
    "\n",
    "#Loop through the 'Ask HN' and 'Show HN' list and append the datetime and the number of comments to an empty list\n",
    "for i in ask_post:\n",
    "    start_time = i[6]\n",
    "    comment_num = i[4]\n",
    "    result_list_ask.append([comment_num, start_time])\n",
    "    \n",
    "for i in show_post:\n",
    "    start_time = i[6]\n",
    "    comment_num = i[4]\n",
    "    result_list_show.append([comment_num, start_time])\n",
    "    "
   ]
  },
  {
   "cell_type": "code",
   "execution_count": 654,
   "metadata": {},
   "outputs": [
    {
     "name": "stdout",
     "output_type": "stream",
     "text": [
      "\n",
      "\n",
      "\n",
      "\n",
      "\n"
     ]
    }
   ],
   "source": [
    "#Create an empty dictionary to store the number of comments and counts by hour\n",
    "count_hour = {}\n",
    "comment_hour = {}\n",
    "\n",
    "#Extract the date and time and create a time object\n",
    "for i in result_list_ask:\n",
    "    datetime_ask = i[1]\n",
    "    #print(datetime_ask)\n",
    "    datetime_ask = datetime_ask.split()\n",
    "    time_ask_obj = dt.datetime.strptime(datetime_ask[1], \"%H:%M\")\n",
    "   #print(time_ask_obj)\n",
    "\n",
    "print(\"\\n\\n\\n\\n\")\n",
    "    \n",
    "for i in result_list_show:\n",
    "    datetime_show = i[1]\n",
    "    #print(datetime_ask)\n",
    "    datetime_show = datetime_show.split()\n",
    "    time_show_obj = dt.datetime.strptime(datetime_show[1], \"%H:%M\")\n",
    "   #print(time_show_obj)  \n",
    "    \n",
    "#datetime_ask = datetime_ask[1]\n",
    "#ask_hour = datetime_ask.split(\" \", [1])\n",
    "#print((result_list_ask[0])[1])"
   ]
  }
 ],
 "metadata": {
  "kernelspec": {
   "display_name": "Python 3",
   "language": "python",
   "name": "python3"
  },
  "language_info": {
   "codemirror_mode": {
    "name": "ipython",
    "version": 3
   },
   "file_extension": ".py",
   "mimetype": "text/x-python",
   "name": "python",
   "nbconvert_exporter": "python",
   "pygments_lexer": "ipython3",
   "version": "3.8.3"
  }
 },
 "nbformat": 4,
 "nbformat_minor": 4
}
